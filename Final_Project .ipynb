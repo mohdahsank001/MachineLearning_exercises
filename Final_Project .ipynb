{
 "cells": [
  {
   "cell_type": "markdown",
   "metadata": {},
   "source": [
    "# COMP90049 , Introduction to Machine Learning \n",
    "\n",
    "**Assignment 3 : Classifying the Geolocation of Tweets**\n",
    "    \n",
    "\n",
    "This jupyter notebook consists of one or more programs that is written in Python with all the code for :\n",
    "\n",
    "\n",
    "<n>1.model implementation\\\n",
    "<n>2.Label Prediction\\\n",
    "3.Evaluation \n",
    "\n",
    "Instructions : \n",
    "1. Please run the code sequentially from the beginning . \n",
    "2. Install the appropriate packages with latest versions required to run the code. (given in readme.txt file) \n",
    "\n",
    "\n",
    "\n"
   ]
  },
  {
   "cell_type": "code",
   "execution_count": 4,
   "metadata": {},
   "outputs": [],
   "source": [
    "import matplotlib.pyplot as plt\n",
    "import numpy as np\n",
    "import pandas as pd\n",
    "import seaborn as sns\n",
    "import warnings\n",
    "\n",
    "warnings.filterwarnings('ignore');\n",
    "%matplotlib inline"
   ]
  },
  {
   "cell_type": "markdown",
   "metadata": {},
   "source": [
    "# Load Data"
   ]
  },
  {
   "cell_type": "code",
   "execution_count": 5,
   "metadata": {},
   "outputs": [
    {
     "name": "stdout",
     "output_type": "stream",
     "text": [
      "README.txt         dev_tfidf.csv      test_tfidf.csv     train_tfidf.csv\r\n",
      "dev_count.csv      test_count.csv     train_count.csv    vocab.txt\r\n",
      "dev_full.csv       test_full.csv      train_full.csv\r\n",
      "dev_glove300.csv   test_glove300.csv  train_glove300.csv\r\n"
     ]
    }
   ],
   "source": [
    "!ls data/"
   ]
  },
  {
   "cell_type": "code",
   "execution_count": 6,
   "metadata": {},
   "outputs": [],
   "source": [
    "train = pd.read_csv('data/train_glove300.csv')\n",
    "dev = pd.read_csv('data/dev_glove300.csv')\n",
    "test = pd.read_csv('data/test_glove300.csv')"
   ]
  },
  {
   "cell_type": "code",
   "execution_count": 7,
   "metadata": {},
   "outputs": [
    {
     "data": {
      "text/html": [
       "<div>\n",
       "<style scoped>\n",
       "    .dataframe tbody tr th:only-of-type {\n",
       "        vertical-align: middle;\n",
       "    }\n",
       "\n",
       "    .dataframe tbody tr th {\n",
       "        vertical-align: top;\n",
       "    }\n",
       "\n",
       "    .dataframe thead th {\n",
       "        text-align: right;\n",
       "    }\n",
       "</style>\n",
       "<table border=\"1\" class=\"dataframe\">\n",
       "  <thead>\n",
       "    <tr style=\"text-align: right;\">\n",
       "      <th></th>\n",
       "      <th>region</th>\n",
       "      <th>user</th>\n",
       "      <th>tweet</th>\n",
       "    </tr>\n",
       "  </thead>\n",
       "  <tbody>\n",
       "    <tr>\n",
       "      <th>0</th>\n",
       "      <td>NORTHEAST</td>\n",
       "      <td>USER_6197f95d</td>\n",
       "      <td>0.16529499739408493 0.15692149847745895 0.1295...</td>\n",
       "    </tr>\n",
       "    <tr>\n",
       "      <th>1</th>\n",
       "      <td>NORTHEAST</td>\n",
       "      <td>USER_6197f95d</td>\n",
       "      <td>0.12859000265598297 0.2504599988460541 -0.5546...</td>\n",
       "    </tr>\n",
       "    <tr>\n",
       "      <th>2</th>\n",
       "      <td>NORTHEAST</td>\n",
       "      <td>USER_6197f95d</td>\n",
       "      <td>-0.20041219741106034 0.3086455903947353 -0.041...</td>\n",
       "    </tr>\n",
       "    <tr>\n",
       "      <th>3</th>\n",
       "      <td>NORTHEAST</td>\n",
       "      <td>USER_6197f95d</td>\n",
       "      <td>-0.14732199907302856 0.3644040012732148 0.1265...</td>\n",
       "    </tr>\n",
       "    <tr>\n",
       "      <th>4</th>\n",
       "      <td>NORTHEAST</td>\n",
       "      <td>USER_6197f95d</td>\n",
       "      <td>0.07860666265090306 -0.19449666266640028 -0.25...</td>\n",
       "    </tr>\n",
       "  </tbody>\n",
       "</table>\n",
       "</div>"
      ],
      "text/plain": [
       "      region           user                                              tweet\n",
       "0  NORTHEAST  USER_6197f95d  0.16529499739408493 0.15692149847745895 0.1295...\n",
       "1  NORTHEAST  USER_6197f95d  0.12859000265598297 0.2504599988460541 -0.5546...\n",
       "2  NORTHEAST  USER_6197f95d  -0.20041219741106034 0.3086455903947353 -0.041...\n",
       "3  NORTHEAST  USER_6197f95d  -0.14732199907302856 0.3644040012732148 0.1265...\n",
       "4  NORTHEAST  USER_6197f95d  0.07860666265090306 -0.19449666266640028 -0.25..."
      ]
     },
     "execution_count": 7,
     "metadata": {},
     "output_type": "execute_result"
    }
   ],
   "source": [
    "train.head()"
   ]
  },
  {
   "cell_type": "code",
   "execution_count": 8,
   "metadata": {},
   "outputs": [
    {
     "data": {
      "text/html": [
       "<div>\n",
       "<style scoped>\n",
       "    .dataframe tbody tr th:only-of-type {\n",
       "        vertical-align: middle;\n",
       "    }\n",
       "\n",
       "    .dataframe tbody tr th {\n",
       "        vertical-align: top;\n",
       "    }\n",
       "\n",
       "    .dataframe thead th {\n",
       "        text-align: right;\n",
       "    }\n",
       "</style>\n",
       "<table border=\"1\" class=\"dataframe\">\n",
       "  <thead>\n",
       "    <tr style=\"text-align: right;\">\n",
       "      <th></th>\n",
       "      <th>region</th>\n",
       "      <th>user</th>\n",
       "      <th>tweet</th>\n",
       "    </tr>\n",
       "  </thead>\n",
       "  <tbody>\n",
       "    <tr>\n",
       "      <th>0</th>\n",
       "      <td>?</td>\n",
       "      <td>USER_e34edf78</td>\n",
       "      <td>0.07743729727671426 -0.03284658798400093 -0.09...</td>\n",
       "    </tr>\n",
       "    <tr>\n",
       "      <th>1</th>\n",
       "      <td>?</td>\n",
       "      <td>USER_e34edf78</td>\n",
       "      <td>-0.0972022470086813 -0.17957499623298645 0.102...</td>\n",
       "    </tr>\n",
       "    <tr>\n",
       "      <th>2</th>\n",
       "      <td>?</td>\n",
       "      <td>USER_e34edf78</td>\n",
       "      <td>-0.013611395657062531 -0.08937279544770718 -0....</td>\n",
       "    </tr>\n",
       "    <tr>\n",
       "      <th>3</th>\n",
       "      <td>?</td>\n",
       "      <td>USER_e34edf78</td>\n",
       "      <td>0.0958620011806488 -0.17400999069213868 0.0420...</td>\n",
       "    </tr>\n",
       "    <tr>\n",
       "      <th>4</th>\n",
       "      <td>?</td>\n",
       "      <td>USER_e34edf78</td>\n",
       "      <td>-0.08330000191926956 -0.20895999670028687 -0.0...</td>\n",
       "    </tr>\n",
       "  </tbody>\n",
       "</table>\n",
       "</div>"
      ],
      "text/plain": [
       "  region           user                                              tweet\n",
       "0      ?  USER_e34edf78  0.07743729727671426 -0.03284658798400093 -0.09...\n",
       "1      ?  USER_e34edf78  -0.0972022470086813 -0.17957499623298645 0.102...\n",
       "2      ?  USER_e34edf78  -0.013611395657062531 -0.08937279544770718 -0....\n",
       "3      ?  USER_e34edf78  0.0958620011806488 -0.17400999069213868 0.0420...\n",
       "4      ?  USER_e34edf78  -0.08330000191926956 -0.20895999670028687 -0.0..."
      ]
     },
     "execution_count": 8,
     "metadata": {},
     "output_type": "execute_result"
    }
   ],
   "source": [
    "test.head()"
   ]
  },
  {
   "cell_type": "markdown",
   "metadata": {},
   "source": [
    "# Cleaning Up Training Data"
   ]
  },
  {
   "cell_type": "code",
   "execution_count": 9,
   "metadata": {
    "scrolled": true
   },
   "outputs": [
    {
     "data": {
      "text/plain": [
       "NORTHEAST    52582\n",
       "SOUTH        49901\n",
       "WEST         16228\n",
       "MIDWEST      15084\n",
       "Name: region, dtype: int64"
      ]
     },
     "execution_count": 9,
     "metadata": {},
     "output_type": "execute_result"
    }
   ],
   "source": [
    "train.region.value_counts()"
   ]
  },
  {
   "cell_type": "code",
   "execution_count": 10,
   "metadata": {},
   "outputs": [
    {
     "data": {
      "image/png": "[encoded data removed]",
      "text/plain": [
       "<Figure size 432x288 with 1 Axes>"
      ]
     },
     "metadata": {
      "needs_background": "light"
     },
     "output_type": "display_data"
    }
   ],
   "source": [
    "sns.histplot(train.region).set_title('Histogram of the Target Labels');"
   ]
  },
  {
   "cell_type": "markdown",
   "metadata": {},
   "source": [
    "It looks like there is a big class imbalance between tweets made in the Northeast and South regions and those made in the Midwest and West regions. "
   ]
  },
  {
   "cell_type": "code",
   "execution_count": 11,
   "metadata": {},
   "outputs": [
    {
     "data": {
      "text/html": [
       "<div>\n",
       "<style scoped>\n",
       "    .dataframe tbody tr th:only-of-type {\n",
       "        vertical-align: middle;\n",
       "    }\n",
       "\n",
       "    .dataframe tbody tr th {\n",
       "        vertical-align: top;\n",
       "    }\n",
       "\n",
       "    .dataframe thead th {\n",
       "        text-align: right;\n",
       "    }\n",
       "</style>\n",
       "<table border=\"1\" class=\"dataframe\">\n",
       "  <thead>\n",
       "    <tr style=\"text-align: right;\">\n",
       "      <th></th>\n",
       "      <th>region</th>\n",
       "      <th>user</th>\n",
       "      <th>tweet</th>\n",
       "    </tr>\n",
       "  </thead>\n",
       "  <tbody>\n",
       "    <tr>\n",
       "      <th>count</th>\n",
       "      <td>133795</td>\n",
       "      <td>133795</td>\n",
       "      <td>133795</td>\n",
       "    </tr>\n",
       "    <tr>\n",
       "      <th>unique</th>\n",
       "      <td>4</td>\n",
       "      <td>3400</td>\n",
       "      <td>114875</td>\n",
       "    </tr>\n",
       "    <tr>\n",
       "      <th>top</th>\n",
       "      <td>NORTHEAST</td>\n",
       "      <td>USER_6b07169e</td>\n",
       "      <td>0 0 0 0 0 0 0 0 0 0 0 0 0 0 0 0 0 0 0 0 0 0 0 ...</td>\n",
       "    </tr>\n",
       "    <tr>\n",
       "      <th>freq</th>\n",
       "      <td>52582</td>\n",
       "      <td>242</td>\n",
       "      <td>1442</td>\n",
       "    </tr>\n",
       "  </tbody>\n",
       "</table>\n",
       "</div>"
      ],
      "text/plain": [
       "           region           user  \\\n",
       "count      133795         133795   \n",
       "unique          4           3400   \n",
       "top     NORTHEAST  USER_6b07169e   \n",
       "freq        52582            242   \n",
       "\n",
       "                                                    tweet  \n",
       "count                                              133795  \n",
       "unique                                             114875  \n",
       "top     0 0 0 0 0 0 0 0 0 0 0 0 0 0 0 0 0 0 0 0 0 0 0 ...  \n",
       "freq                                                 1442  "
      ]
     },
     "execution_count": 11,
     "metadata": {},
     "output_type": "execute_result"
    }
   ],
   "source": [
    "train.describe()"
   ]
  },
  {
   "cell_type": "code",
   "execution_count": 12,
   "metadata": {},
   "outputs": [
    {
     "data": {
      "text/plain": [
       "str"
      ]
     },
     "execution_count": 12,
     "metadata": {},
     "output_type": "execute_result"
    }
   ],
   "source": [
    "type(train.tweet.iloc[0])"
   ]
  },
  {
   "cell_type": "markdown",
   "metadata": {},
   "source": [
    "1442 don't have any useful information in the glove vector because the entire vector is full of zeros, we will remove those datapoints.\n",
    "\n",
    "There is enough remaining data to train a robust model."
   ]
  },
  {
   "cell_type": "code",
   "execution_count": 13,
   "metadata": {},
   "outputs": [],
   "source": [
    "drop_df = train[train.tweet == '0 0 0 0 0 0 0 0 0 0 0 0 0 0 0 0 0 0 0 0 0 0 0 0 0 0 0 0 0 0 0 0 0 0 0 0 0 0 0 0 0 0 0 0 0 0 0 0 0 0 0 0 0 0 0 0 0 0 0 0 0 0 0 0 0 0 0 0 0 0 0 0 0 0 0 0 0 0 0 0 0 0 0 0 0 0 0 0 0 0 0 0 0 0 0 0 0 0 0 0 0 0 0 0 0 0 0 0 0 0 0 0 0 0 0 0 0 0 0 0 0 0 0 0 0 0 0 0 0 0 0 0 0 0 0 0 0 0 0 0 0 0 0 0 0 0 0 0 0 0 0 0 0 0 0 0 0 0 0 0 0 0 0 0 0 0 0 0 0 0 0 0 0 0 0 0 0 0 0 0 0 0 0 0 0 0 0 0 0 0 0 0 0 0 0 0 0 0 0 0 0 0 0 0 0 0 0 0 0 0 0 0 0 0 0 0 0 0 0 0 0 0 0 0 0 0 0 0 0 0 0 0 0 0 0 0 0 0 0 0 0 0 0 0 0 0 0 0 0 0 0 0 0 0 0 0 0 0 0 0 0 0 0 0 0 0 0 0 0 0 0 0 0 0 0 0 0 0 0 0 0 0 0 0 0 0 0 0 0 0 0 0 0 0 0 0 0 0 0 0']"
   ]
  },
  {
   "cell_type": "code",
   "execution_count": 14,
   "metadata": {},
   "outputs": [
    {
     "data": {
      "text/html": [
       "<div>\n",
       "<style scoped>\n",
       "    .dataframe tbody tr th:only-of-type {\n",
       "        vertical-align: middle;\n",
       "    }\n",
       "\n",
       "    .dataframe tbody tr th {\n",
       "        vertical-align: top;\n",
       "    }\n",
       "\n",
       "    .dataframe thead th {\n",
       "        text-align: right;\n",
       "    }\n",
       "</style>\n",
       "<table border=\"1\" class=\"dataframe\">\n",
       "  <thead>\n",
       "    <tr style=\"text-align: right;\">\n",
       "      <th></th>\n",
       "      <th>region</th>\n",
       "      <th>user</th>\n",
       "      <th>tweet</th>\n",
       "    </tr>\n",
       "  </thead>\n",
       "  <tbody>\n",
       "    <tr>\n",
       "      <th>267</th>\n",
       "      <td>SOUTH</td>\n",
       "      <td>USER_cd29704a</td>\n",
       "      <td>0 0 0 0 0 0 0 0 0 0 0 0 0 0 0 0 0 0 0 0 0 0 0 ...</td>\n",
       "    </tr>\n",
       "    <tr>\n",
       "      <th>278</th>\n",
       "      <td>SOUTH</td>\n",
       "      <td>USER_cd29704a</td>\n",
       "      <td>0 0 0 0 0 0 0 0 0 0 0 0 0 0 0 0 0 0 0 0 0 0 0 ...</td>\n",
       "    </tr>\n",
       "    <tr>\n",
       "      <th>279</th>\n",
       "      <td>SOUTH</td>\n",
       "      <td>USER_cd29704a</td>\n",
       "      <td>0 0 0 0 0 0 0 0 0 0 0 0 0 0 0 0 0 0 0 0 0 0 0 ...</td>\n",
       "    </tr>\n",
       "    <tr>\n",
       "      <th>281</th>\n",
       "      <td>SOUTH</td>\n",
       "      <td>USER_cd29704a</td>\n",
       "      <td>0 0 0 0 0 0 0 0 0 0 0 0 0 0 0 0 0 0 0 0 0 0 0 ...</td>\n",
       "    </tr>\n",
       "    <tr>\n",
       "      <th>388</th>\n",
       "      <td>SOUTH</td>\n",
       "      <td>USER_afa7ebf8</td>\n",
       "      <td>0 0 0 0 0 0 0 0 0 0 0 0 0 0 0 0 0 0 0 0 0 0 0 ...</td>\n",
       "    </tr>\n",
       "  </tbody>\n",
       "</table>\n",
       "</div>"
      ],
      "text/plain": [
       "    region           user                                              tweet\n",
       "267  SOUTH  USER_cd29704a  0 0 0 0 0 0 0 0 0 0 0 0 0 0 0 0 0 0 0 0 0 0 0 ...\n",
       "278  SOUTH  USER_cd29704a  0 0 0 0 0 0 0 0 0 0 0 0 0 0 0 0 0 0 0 0 0 0 0 ...\n",
       "279  SOUTH  USER_cd29704a  0 0 0 0 0 0 0 0 0 0 0 0 0 0 0 0 0 0 0 0 0 0 0 ...\n",
       "281  SOUTH  USER_cd29704a  0 0 0 0 0 0 0 0 0 0 0 0 0 0 0 0 0 0 0 0 0 0 0 ...\n",
       "388  SOUTH  USER_afa7ebf8  0 0 0 0 0 0 0 0 0 0 0 0 0 0 0 0 0 0 0 0 0 0 0 ..."
      ]
     },
     "execution_count": 14,
     "metadata": {},
     "output_type": "execute_result"
    }
   ],
   "source": [
    "drop_df.head()"
   ]
  },
  {
   "cell_type": "code",
   "execution_count": 15,
   "metadata": {},
   "outputs": [
    {
     "data": {
      "text/plain": [
       "NORTHEAST    700\n",
       "SOUTH        479\n",
       "WEST         137\n",
       "MIDWEST      126\n",
       "Name: region, dtype: int64"
      ]
     },
     "execution_count": 15,
     "metadata": {},
     "output_type": "execute_result"
    }
   ],
   "source": [
    "drop_df.region.value_counts()"
   ]
  },
  {
   "cell_type": "markdown",
   "metadata": {},
   "source": [
    "At a glance, it looks like the tweets that are dropping share a similar distribution of target labels as the training dataset on the whole. \n",
    "\n",
    "Removing them won't skew the target label class distribution. "
   ]
  },
  {
   "cell_type": "code",
   "execution_count": 16,
   "metadata": {},
   "outputs": [
    {
     "name": "stdout",
     "output_type": "stream",
     "text": [
      "(133795, 3) (132353, 3)\n"
     ]
    },
    {
     "data": {
      "text/html": [
       "<div>\n",
       "<style scoped>\n",
       "    .dataframe tbody tr th:only-of-type {\n",
       "        vertical-align: middle;\n",
       "    }\n",
       "\n",
       "    .dataframe tbody tr th {\n",
       "        vertical-align: top;\n",
       "    }\n",
       "\n",
       "    .dataframe thead th {\n",
       "        text-align: right;\n",
       "    }\n",
       "</style>\n",
       "<table border=\"1\" class=\"dataframe\">\n",
       "  <thead>\n",
       "    <tr style=\"text-align: right;\">\n",
       "      <th></th>\n",
       "      <th>region</th>\n",
       "      <th>user</th>\n",
       "      <th>tweet</th>\n",
       "    </tr>\n",
       "  </thead>\n",
       "  <tbody>\n",
       "    <tr>\n",
       "      <th>0</th>\n",
       "      <td>NORTHEAST</td>\n",
       "      <td>USER_6197f95d</td>\n",
       "      <td>0.16529499739408493 0.15692149847745895 0.1295...</td>\n",
       "    </tr>\n",
       "    <tr>\n",
       "      <th>1</th>\n",
       "      <td>NORTHEAST</td>\n",
       "      <td>USER_6197f95d</td>\n",
       "      <td>0.12859000265598297 0.2504599988460541 -0.5546...</td>\n",
       "    </tr>\n",
       "    <tr>\n",
       "      <th>2</th>\n",
       "      <td>NORTHEAST</td>\n",
       "      <td>USER_6197f95d</td>\n",
       "      <td>-0.20041219741106034 0.3086455903947353 -0.041...</td>\n",
       "    </tr>\n",
       "    <tr>\n",
       "      <th>3</th>\n",
       "      <td>NORTHEAST</td>\n",
       "      <td>USER_6197f95d</td>\n",
       "      <td>-0.14732199907302856 0.3644040012732148 0.1265...</td>\n",
       "    </tr>\n",
       "    <tr>\n",
       "      <th>4</th>\n",
       "      <td>NORTHEAST</td>\n",
       "      <td>USER_6197f95d</td>\n",
       "      <td>0.07860666265090306 -0.19449666266640028 -0.25...</td>\n",
       "    </tr>\n",
       "  </tbody>\n",
       "</table>\n",
       "</div>"
      ],
      "text/plain": [
       "      region           user                                              tweet\n",
       "0  NORTHEAST  USER_6197f95d  0.16529499739408493 0.15692149847745895 0.1295...\n",
       "1  NORTHEAST  USER_6197f95d  0.12859000265598297 0.2504599988460541 -0.5546...\n",
       "2  NORTHEAST  USER_6197f95d  -0.20041219741106034 0.3086455903947353 -0.041...\n",
       "3  NORTHEAST  USER_6197f95d  -0.14732199907302856 0.3644040012732148 0.1265...\n",
       "4  NORTHEAST  USER_6197f95d  0.07860666265090306 -0.19449666266640028 -0.25..."
      ]
     },
     "execution_count": 16,
     "metadata": {},
     "output_type": "execute_result"
    }
   ],
   "source": [
    "train_preprocessed = train.drop(drop_df.index)\n",
    "print(train.shape, train_preprocessed.shape)\n",
    "train_preprocessed.head()"
   ]
  },
  {
   "cell_type": "code",
   "execution_count": 17,
   "metadata": {},
   "outputs": [
    {
     "data": {
      "text/html": [
       "<div>\n",
       "<style scoped>\n",
       "    .dataframe tbody tr th:only-of-type {\n",
       "        vertical-align: middle;\n",
       "    }\n",
       "\n",
       "    .dataframe tbody tr th {\n",
       "        vertical-align: top;\n",
       "    }\n",
       "\n",
       "    .dataframe thead th {\n",
       "        text-align: right;\n",
       "    }\n",
       "</style>\n",
       "<table border=\"1\" class=\"dataframe\">\n",
       "  <thead>\n",
       "    <tr style=\"text-align: right;\">\n",
       "      <th></th>\n",
       "      <th>region</th>\n",
       "      <th>user</th>\n",
       "      <th>tweet</th>\n",
       "    </tr>\n",
       "  </thead>\n",
       "  <tbody>\n",
       "    <tr>\n",
       "      <th>count</th>\n",
       "      <td>132353</td>\n",
       "      <td>132353</td>\n",
       "      <td>132353</td>\n",
       "    </tr>\n",
       "    <tr>\n",
       "      <th>unique</th>\n",
       "      <td>4</td>\n",
       "      <td>3400</td>\n",
       "      <td>114874</td>\n",
       "    </tr>\n",
       "    <tr>\n",
       "      <th>top</th>\n",
       "      <td>NORTHEAST</td>\n",
       "      <td>USER_6b07169e</td>\n",
       "      <td>0.23725999891757965 -0.4605099856853485 0.0755...</td>\n",
       "    </tr>\n",
       "    <tr>\n",
       "      <th>freq</th>\n",
       "      <td>51882</td>\n",
       "      <td>232</td>\n",
       "      <td>1233</td>\n",
       "    </tr>\n",
       "  </tbody>\n",
       "</table>\n",
       "</div>"
      ],
      "text/plain": [
       "           region           user  \\\n",
       "count      132353         132353   \n",
       "unique          4           3400   \n",
       "top     NORTHEAST  USER_6b07169e   \n",
       "freq        51882            232   \n",
       "\n",
       "                                                    tweet  \n",
       "count                                              132353  \n",
       "unique                                             114874  \n",
       "top     0.23725999891757965 -0.4605099856853485 0.0755...  \n",
       "freq                                                 1233  "
      ]
     },
     "execution_count": 17,
     "metadata": {},
     "output_type": "execute_result"
    }
   ],
   "source": [
    "train_preprocessed.describe()"
   ]
  },
  {
   "cell_type": "markdown",
   "metadata": {},
   "source": [
    "Something to note is that some tweets or their glove vector representations are duplicated across the dataset. "
   ]
  },
  {
   "cell_type": "code",
   "execution_count": 18,
   "metadata": {},
   "outputs": [
    {
     "data": {
      "image/png": "[encoded data removed]",
      "text/plain": [
       "<Figure size 432x288 with 1 Axes>"
      ]
     },
     "metadata": {
      "needs_background": "light"
     },
     "output_type": "display_data"
    }
   ],
   "source": [
    "sns.histplot(train_preprocessed[train_preprocessed.duplicated()].region).set_title('Classes for Duplicated Tweets');"
   ]
  },
  {
   "cell_type": "markdown",
   "metadata": {},
   "source": [
    "Above is the distribution of the target class labels of rows with duplicate tweets. There is no need to reduce the number of training datapoints for the Western and Midwestern Regions, so a good idea would be to drop the duplicates of those rows in the Northeastern and Southern Region. This slightly balances the class imbalance and remove those duplicates."
   ]
  },
  {
   "cell_type": "code",
   "execution_count": 19,
   "metadata": {},
   "outputs": [],
   "source": [
    "train_preprocessed = train_preprocessed[~((train_preprocessed.region.isin(['NORTHEAST','SOUTH']) &\\\n",
    "                                        (train_preprocessed.duplicated())))]"
   ]
  },
  {
   "cell_type": "code",
   "execution_count": 20,
   "metadata": {},
   "outputs": [
    {
     "name": "stdout",
     "output_type": "stream",
     "text": [
      "(133795, 3) (130540, 3)\n"
     ]
    }
   ],
   "source": [
    "print(train.shape, train_preprocessed.shape)"
   ]
  },
  {
   "cell_type": "code",
   "execution_count": 21,
   "metadata": {},
   "outputs": [
    {
     "data": {
      "image/png": "[encoded data removed]",
      "text/plain": [
       "<Figure size 432x288 with 1 Axes>"
      ]
     },
     "metadata": {
      "needs_background": "light"
     },
     "output_type": "display_data"
    }
   ],
   "source": [
    "sns.histplot(train_preprocessed.region).set_title('Histogram of the Target Labels');"
   ]
  },
  {
   "cell_type": "markdown",
   "metadata": {},
   "source": [
    "Below we will create the numpy 300 dimensional feature array. "
   ]
  },
  {
   "cell_type": "code",
   "execution_count": 22,
   "metadata": {},
   "outputs": [],
   "source": [
    "train_preprocessed['feature_array'] =train_preprocessed.tweet.map(lambda x: np.array([float(i) for i in x.split(' ')]))"
   ]
  },
  {
   "cell_type": "code",
   "execution_count": 23,
   "metadata": {},
   "outputs": [
    {
     "data": {
      "text/plain": [
       "300    130540\n",
       "Name: feature_array, dtype: int64"
      ]
     },
     "execution_count": 23,
     "metadata": {},
     "output_type": "execute_result"
    }
   ],
   "source": [
    "train_preprocessed.feature_array.map(lambda x: x.size).value_counts()"
   ]
  },
  {
   "cell_type": "code",
   "execution_count": 24,
   "metadata": {},
   "outputs": [
    {
     "data": {
      "text/plain": [
       "region           0\n",
       "user             0\n",
       "tweet            0\n",
       "feature_array    0\n",
       "dtype: int64"
      ]
     },
     "execution_count": 24,
     "metadata": {},
     "output_type": "execute_result"
    }
   ],
   "source": [
    "train_preprocessed.isnull().sum()"
   ]
  },
  {
   "cell_type": "markdown",
   "metadata": {},
   "source": [
    "Next step is to shuffle the dataframe to make sure that there is no order to the target class labels and/or that they are not clumped together. "
   ]
  },
  {
   "cell_type": "code",
   "execution_count": 25,
   "metadata": {},
   "outputs": [],
   "source": [
    "train_preprocessed = train_preprocessed.sample(frac = 1)"
   ]
  },
  {
   "cell_type": "markdown",
   "metadata": {},
   "source": [
    "# Preprocessing Dev Data"
   ]
  },
  {
   "cell_type": "code",
   "execution_count": 26,
   "metadata": {},
   "outputs": [
    {
     "data": {
      "text/html": [
       "<div>\n",
       "<style scoped>\n",
       "    .dataframe tbody tr th:only-of-type {\n",
       "        vertical-align: middle;\n",
       "    }\n",
       "\n",
       "    .dataframe tbody tr th {\n",
       "        vertical-align: top;\n",
       "    }\n",
       "\n",
       "    .dataframe thead th {\n",
       "        text-align: right;\n",
       "    }\n",
       "</style>\n",
       "<table border=\"1\" class=\"dataframe\">\n",
       "  <thead>\n",
       "    <tr style=\"text-align: right;\">\n",
       "      <th></th>\n",
       "      <th>region</th>\n",
       "      <th>user</th>\n",
       "      <th>tweet</th>\n",
       "    </tr>\n",
       "  </thead>\n",
       "  <tbody>\n",
       "    <tr>\n",
       "      <th>0</th>\n",
       "      <td>NORTHEAST</td>\n",
       "      <td>USER_e96c1548</td>\n",
       "      <td>-0.028180110371775098 -0.03476144280284643 -0....</td>\n",
       "    </tr>\n",
       "    <tr>\n",
       "      <th>1</th>\n",
       "      <td>NORTHEAST</td>\n",
       "      <td>USER_e96c1548</td>\n",
       "      <td>-0.16395900088051954 0.04037083126604557 -0.20...</td>\n",
       "    </tr>\n",
       "    <tr>\n",
       "      <th>2</th>\n",
       "      <td>NORTHEAST</td>\n",
       "      <td>USER_e96c1548</td>\n",
       "      <td>-0.07742499560117722 -0.09208500385284424 -0.4...</td>\n",
       "    </tr>\n",
       "    <tr>\n",
       "      <th>3</th>\n",
       "      <td>NORTHEAST</td>\n",
       "      <td>USER_e96c1548</td>\n",
       "      <td>-0.31334999203681946 -0.3493500053882599 -0.18...</td>\n",
       "    </tr>\n",
       "    <tr>\n",
       "      <th>4</th>\n",
       "      <td>NORTHEAST</td>\n",
       "      <td>USER_e96c1548</td>\n",
       "      <td>0.19321999847888946 0.07786999940872193 -0.039...</td>\n",
       "    </tr>\n",
       "  </tbody>\n",
       "</table>\n",
       "</div>"
      ],
      "text/plain": [
       "      region           user                                              tweet\n",
       "0  NORTHEAST  USER_e96c1548  -0.028180110371775098 -0.03476144280284643 -0....\n",
       "1  NORTHEAST  USER_e96c1548  -0.16395900088051954 0.04037083126604557 -0.20...\n",
       "2  NORTHEAST  USER_e96c1548  -0.07742499560117722 -0.09208500385284424 -0.4...\n",
       "3  NORTHEAST  USER_e96c1548  -0.31334999203681946 -0.3493500053882599 -0.18...\n",
       "4  NORTHEAST  USER_e96c1548  0.19321999847888946 0.07786999940872193 -0.039..."
      ]
     },
     "execution_count": 26,
     "metadata": {},
     "output_type": "execute_result"
    }
   ],
   "source": [
    "dev.head()"
   ]
  },
  {
   "cell_type": "code",
   "execution_count": 27,
   "metadata": {},
   "outputs": [],
   "source": [
    "zeros_df = dev[dev.tweet == '0 0 0 0 0 0 0 0 0 0 0 0 0 0 0 0 0 0 0 0 0 0 0 0 0 0 0 0 0 0 0 0 0 0 0 0 0 0 0 0 0 0 0 0 0 0 0 0 0 0 0 0 0 0 0 0 0 0 0 0 0 0 0 0 0 0 0 0 0 0 0 0 0 0 0 0 0 0 0 0 0 0 0 0 0 0 0 0 0 0 0 0 0 0 0 0 0 0 0 0 0 0 0 0 0 0 0 0 0 0 0 0 0 0 0 0 0 0 0 0 0 0 0 0 0 0 0 0 0 0 0 0 0 0 0 0 0 0 0 0 0 0 0 0 0 0 0 0 0 0 0 0 0 0 0 0 0 0 0 0 0 0 0 0 0 0 0 0 0 0 0 0 0 0 0 0 0 0 0 0 0 0 0 0 0 0 0 0 0 0 0 0 0 0 0 0 0 0 0 0 0 0 0 0 0 0 0 0 0 0 0 0 0 0 0 0 0 0 0 0 0 0 0 0 0 0 0 0 0 0 0 0 0 0 0 0 0 0 0 0 0 0 0 0 0 0 0 0 0 0 0 0 0 0 0 0 0 0 0 0 0 0 0 0 0 0 0 0 0 0 0 0 0 0 0 0 0 0 0 0 0 0 0 0 0 0 0 0 0 0 0 0 0 0 0 0 0 0 0 0']"
   ]
  },
  {
   "cell_type": "code",
   "execution_count": 28,
   "metadata": {},
   "outputs": [
    {
     "data": {
      "text/html": [
       "<div>\n",
       "<style scoped>\n",
       "    .dataframe tbody tr th:only-of-type {\n",
       "        vertical-align: middle;\n",
       "    }\n",
       "\n",
       "    .dataframe tbody tr th {\n",
       "        vertical-align: top;\n",
       "    }\n",
       "\n",
       "    .dataframe thead th {\n",
       "        text-align: right;\n",
       "    }\n",
       "</style>\n",
       "<table border=\"1\" class=\"dataframe\">\n",
       "  <thead>\n",
       "    <tr style=\"text-align: right;\">\n",
       "      <th></th>\n",
       "      <th>region</th>\n",
       "      <th>user</th>\n",
       "      <th>tweet</th>\n",
       "    </tr>\n",
       "  </thead>\n",
       "  <tbody>\n",
       "    <tr>\n",
       "      <th>63</th>\n",
       "      <td>SOUTH</td>\n",
       "      <td>USER_019176d1</td>\n",
       "      <td>0 0 0 0 0 0 0 0 0 0 0 0 0 0 0 0 0 0 0 0 0 0 0 ...</td>\n",
       "    </tr>\n",
       "    <tr>\n",
       "      <th>124</th>\n",
       "      <td>SOUTH</td>\n",
       "      <td>USER_023393a1</td>\n",
       "      <td>0 0 0 0 0 0 0 0 0 0 0 0 0 0 0 0 0 0 0 0 0 0 0 ...</td>\n",
       "    </tr>\n",
       "    <tr>\n",
       "      <th>164</th>\n",
       "      <td>NORTHEAST</td>\n",
       "      <td>USER_4ec79b73</td>\n",
       "      <td>0 0 0 0 0 0 0 0 0 0 0 0 0 0 0 0 0 0 0 0 0 0 0 ...</td>\n",
       "    </tr>\n",
       "    <tr>\n",
       "      <th>175</th>\n",
       "      <td>NORTHEAST</td>\n",
       "      <td>USER_4ec79b73</td>\n",
       "      <td>0 0 0 0 0 0 0 0 0 0 0 0 0 0 0 0 0 0 0 0 0 0 0 ...</td>\n",
       "    </tr>\n",
       "    <tr>\n",
       "      <th>178</th>\n",
       "      <td>NORTHEAST</td>\n",
       "      <td>USER_4ec79b73</td>\n",
       "      <td>0 0 0 0 0 0 0 0 0 0 0 0 0 0 0 0 0 0 0 0 0 0 0 ...</td>\n",
       "    </tr>\n",
       "  </tbody>\n",
       "</table>\n",
       "</div>"
      ],
      "text/plain": [
       "        region           user  \\\n",
       "63       SOUTH  USER_019176d1   \n",
       "124      SOUTH  USER_023393a1   \n",
       "164  NORTHEAST  USER_4ec79b73   \n",
       "175  NORTHEAST  USER_4ec79b73   \n",
       "178  NORTHEAST  USER_4ec79b73   \n",
       "\n",
       "                                                 tweet  \n",
       "63   0 0 0 0 0 0 0 0 0 0 0 0 0 0 0 0 0 0 0 0 0 0 0 ...  \n",
       "124  0 0 0 0 0 0 0 0 0 0 0 0 0 0 0 0 0 0 0 0 0 0 0 ...  \n",
       "164  0 0 0 0 0 0 0 0 0 0 0 0 0 0 0 0 0 0 0 0 0 0 0 ...  \n",
       "175  0 0 0 0 0 0 0 0 0 0 0 0 0 0 0 0 0 0 0 0 0 0 0 ...  \n",
       "178  0 0 0 0 0 0 0 0 0 0 0 0 0 0 0 0 0 0 0 0 0 0 0 ...  "
      ]
     },
     "execution_count": 28,
     "metadata": {},
     "output_type": "execute_result"
    }
   ],
   "source": [
    "zeros_df.head()"
   ]
  },
  {
   "cell_type": "code",
   "execution_count": 29,
   "metadata": {},
   "outputs": [
    {
     "data": {
      "text/plain": [
       "NORTHEAST    50\n",
       "SOUTH        28\n",
       "MIDWEST      13\n",
       "WEST          9\n",
       "Name: region, dtype: int64"
      ]
     },
     "execution_count": 29,
     "metadata": {},
     "output_type": "execute_result"
    }
   ],
   "source": [
    "zeros_df.region.value_counts()"
   ]
  },
  {
   "cell_type": "markdown",
   "metadata": {},
   "source": [
    "There aren't too many datapoints in the dev set that have empty glove vectors. "
   ]
  },
  {
   "cell_type": "code",
   "execution_count": 30,
   "metadata": {},
   "outputs": [],
   "source": [
    "dev['feature_array'] =dev.tweet.map(lambda x: np.array([float(i) for i in x.split(' ')]))"
   ]
  },
  {
   "cell_type": "markdown",
   "metadata": {},
   "source": [
    "# One Rule Baseline"
   ]
  },
  {
   "cell_type": "markdown",
   "metadata": {},
   "source": [
    "A function to use as a baseline model that returns the label of the class that appears most often in the training data."
   ]
  },
  {
   "cell_type": "code",
   "execution_count": 31,
   "metadata": {},
   "outputs": [],
   "source": [
    "from sklearn.metrics import classification_report\n",
    "from sklearn.metrics import confusion_matrix"
   ]
  },
  {
   "cell_type": "code",
   "execution_count": 32,
   "metadata": {},
   "outputs": [],
   "source": [
    "def get_report(model):\n",
    "    print('***** Training Set Performance ******')\n",
    "    train_pred = model.predict(X)\n",
    "    train_actual = y\n",
    "    \n",
    "    print(classification_report(train_actual,train_pred))\n",
    "    print('***** Training Confusion Matrix ******')\n",
    "    print(confusion_matrix(train_actual,train_pred))\n",
    "    \n",
    "    print('\\n***** Dev Set Performance ******')\n",
    "    dev_pred = model.predict(list(dev.feature_array))\n",
    "    dev_actual = dev.region\n",
    "    \n",
    "    print(classification_report(dev_actual,dev_pred))\n",
    "    print('***** Dev Confusion Matrix ******')\n",
    "    print(confusion_matrix(dev_actual,dev_pred))"
   ]
  },
  {
   "cell_type": "code",
   "execution_count": 33,
   "metadata": {},
   "outputs": [
    {
     "data": {
      "text/plain": [
       "['NORTHEAST',\n",
       " 'NORTHEAST',\n",
       " 'NORTHEAST',\n",
       " 'NORTHEAST',\n",
       " 'NORTHEAST',\n",
       " 'NORTHEAST',\n",
       " 'NORTHEAST',\n",
       " 'NORTHEAST',\n",
       " 'NORTHEAST',\n",
       " 'NORTHEAST',\n",
       " 'NORTHEAST',\n",
       " 'NORTHEAST',\n",
       " 'NORTHEAST',\n",
       " 'NORTHEAST',\n",
       " 'NORTHEAST',\n",
       " 'NORTHEAST',\n",
       " 'NORTHEAST',\n",
       " 'NORTHEAST',\n",
       " 'NORTHEAST',\n",
       " 'NORTHEAST',\n",
       " 'NORTHEAST',\n",
       " 'NORTHEAST',\n",
       " 'NORTHEAST',\n",
       " 'NORTHEAST',\n",
       " 'NORTHEAST',\n",
       " 'NORTHEAST',\n",
       " 'NORTHEAST',\n",
       " 'NORTHEAST',\n",
       " 'NORTHEAST',\n",
       " 'NORTHEAST',\n",
       " 'NORTHEAST',\n",
       " 'NORTHEAST',\n",
       " 'NORTHEAST',\n",
       " 'NORTHEAST',\n",
       " 'NORTHEAST',\n",
       " 'NORTHEAST',\n",
       " 'NORTHEAST',\n",
       " 'NORTHEAST',\n",
       " 'NORTHEAST',\n",
       " 'NORTHEAST',\n",
       " 'NORTHEAST',\n",
       " 'NORTHEAST',\n",
       " 'NORTHEAST',\n",
       " 'NORTHEAST',\n",
       " 'NORTHEAST',\n",
       " 'NORTHEAST',\n",
       " 'NORTHEAST',\n",
       " 'NORTHEAST',\n",
       " 'NORTHEAST',\n",
       " 'NORTHEAST',\n",
       " 'NORTHEAST',\n",
       " 'NORTHEAST',\n",
       " 'NORTHEAST',\n",
       " 'NORTHEAST',\n",
       " 'NORTHEAST',\n",
       " 'NORTHEAST',\n",
       " 'NORTHEAST',\n",
       " 'NORTHEAST',\n",
       " 'NORTHEAST',\n",
       " 'NORTHEAST',\n",
       " 'NORTHEAST',\n",
       " 'NORTHEAST',\n",
       " 'NORTHEAST',\n",
       " 'NORTHEAST',\n",
       " 'NORTHEAST',\n",
       " 'NORTHEAST',\n",
       " 'NORTHEAST',\n",
       " 'NORTHEAST',\n",
       " 'NORTHEAST',\n",
       " 'NORTHEAST',\n",
       " 'NORTHEAST',\n",
       " 'NORTHEAST',\n",
       " 'NORTHEAST',\n",
       " 'NORTHEAST',\n",
       " 'NORTHEAST',\n",
       " 'NORTHEAST',\n",
       " 'NORTHEAST',\n",
       " 'NORTHEAST',\n",
       " 'NORTHEAST',\n",
       " 'NORTHEAST',\n",
       " 'NORTHEAST',\n",
       " 'NORTHEAST',\n",
       " 'NORTHEAST',\n",
       " 'NORTHEAST',\n",
       " 'NORTHEAST',\n",
       " 'NORTHEAST',\n",
       " 'NORTHEAST',\n",
       " 'NORTHEAST',\n",
       " 'NORTHEAST',\n",
       " 'NORTHEAST',\n",
       " 'NORTHEAST',\n",
       " 'NORTHEAST',\n",
       " 'NORTHEAST',\n",
       " 'NORTHEAST',\n",
       " 'NORTHEAST',\n",
       " 'NORTHEAST',\n",
       " 'NORTHEAST',\n",
       " 'NORTHEAST',\n",
       " 'NORTHEAST',\n",
       " 'NORTHEAST',\n",
       " 'NORTHEAST',\n",
       " 'NORTHEAST',\n",
       " 'NORTHEAST',\n",
       " 'NORTHEAST',\n",
       " 'NORTHEAST',\n",
       " 'NORTHEAST',\n",
       " 'NORTHEAST',\n",
       " 'NORTHEAST',\n",
       " 'NORTHEAST',\n",
       " 'NORTHEAST',\n",
       " 'NORTHEAST',\n",
       " 'NORTHEAST',\n",
       " 'NORTHEAST',\n",
       " 'NORTHEAST',\n",
       " 'NORTHEAST',\n",
       " 'NORTHEAST',\n",
       " 'NORTHEAST',\n",
       " 'NORTHEAST',\n",
       " 'NORTHEAST',\n",
       " 'NORTHEAST',\n",
       " 'NORTHEAST',\n",
       " 'NORTHEAST',\n",
       " 'NORTHEAST',\n",
       " 'NORTHEAST',\n",
       " 'NORTHEAST',\n",
       " 'NORTHEAST',\n",
       " 'NORTHEAST',\n",
       " 'NORTHEAST',\n",
       " 'NORTHEAST',\n",
       " 'NORTHEAST',\n",
       " 'NORTHEAST',\n",
       " 'NORTHEAST',\n",
       " 'NORTHEAST',\n",
       " 'NORTHEAST',\n",
       " 'NORTHEAST',\n",
       " 'NORTHEAST',\n",
       " 'NORTHEAST',\n",
       " 'NORTHEAST',\n",
       " 'NORTHEAST',\n",
       " 'NORTHEAST',\n",
       " 'NORTHEAST',\n",
       " 'NORTHEAST',\n",
       " 'NORTHEAST',\n",
       " 'NORTHEAST',\n",
       " 'NORTHEAST',\n",
       " 'NORTHEAST',\n",
       " 'NORTHEAST',\n",
       " 'NORTHEAST',\n",
       " 'NORTHEAST',\n",
       " 'NORTHEAST',\n",
       " 'NORTHEAST',\n",
       " 'NORTHEAST',\n",
       " 'NORTHEAST',\n",
       " 'NORTHEAST',\n",
       " 'NORTHEAST',\n",
       " 'NORTHEAST',\n",
       " 'NORTHEAST',\n",
       " 'NORTHEAST',\n",
       " 'NORTHEAST',\n",
       " 'NORTHEAST',\n",
       " 'NORTHEAST',\n",
       " 'NORTHEAST',\n",
       " 'NORTHEAST',\n",
       " 'NORTHEAST',\n",
       " 'NORTHEAST',\n",
       " 'NORTHEAST',\n",
       " 'NORTHEAST',\n",
       " 'NORTHEAST',\n",
       " 'NORTHEAST',\n",
       " 'NORTHEAST',\n",
       " 'NORTHEAST',\n",
       " 'NORTHEAST',\n",
       " 'NORTHEAST',\n",
       " 'NORTHEAST',\n",
       " 'NORTHEAST',\n",
       " 'NORTHEAST',\n",
       " 'NORTHEAST',\n",
       " 'NORTHEAST',\n",
       " 'NORTHEAST',\n",
       " 'NORTHEAST',\n",
       " 'NORTHEAST',\n",
       " 'NORTHEAST',\n",
       " 'NORTHEAST',\n",
       " 'NORTHEAST',\n",
       " 'NORTHEAST',\n",
       " 'NORTHEAST',\n",
       " 'NORTHEAST',\n",
       " 'NORTHEAST',\n",
       " 'NORTHEAST',\n",
       " 'NORTHEAST',\n",
       " 'NORTHEAST',\n",
       " 'NORTHEAST',\n",
       " 'NORTHEAST',\n",
       " 'NORTHEAST',\n",
       " 'NORTHEAST',\n",
       " 'NORTHEAST',\n",
       " 'NORTHEAST',\n",
       " 'NORTHEAST',\n",
       " 'NORTHEAST',\n",
       " 'NORTHEAST',\n",
       " 'NORTHEAST',\n",
       " 'NORTHEAST',\n",
       " 'NORTHEAST',\n",
       " 'NORTHEAST',\n",
       " 'NORTHEAST',\n",
       " 'NORTHEAST',\n",
       " 'NORTHEAST',\n",
       " 'NORTHEAST',\n",
       " 'NORTHEAST',\n",
       " 'NORTHEAST',\n",
       " 'NORTHEAST',\n",
       " 'NORTHEAST',\n",
       " 'NORTHEAST',\n",
       " 'NORTHEAST',\n",
       " 'NORTHEAST',\n",
       " 'NORTHEAST',\n",
       " 'NORTHEAST',\n",
       " 'NORTHEAST',\n",
       " 'NORTHEAST',\n",
       " 'NORTHEAST',\n",
       " 'NORTHEAST',\n",
       " 'NORTHEAST',\n",
       " 'NORTHEAST',\n",
       " 'NORTHEAST',\n",
       " 'NORTHEAST',\n",
       " 'NORTHEAST',\n",
       " 'NORTHEAST',\n",
       " 'NORTHEAST',\n",
       " 'NORTHEAST',\n",
       " 'NORTHEAST',\n",
       " 'NORTHEAST',\n",
       " 'NORTHEAST',\n",
       " 'NORTHEAST',\n",
       " 'NORTHEAST',\n",
       " 'NORTHEAST',\n",
       " 'NORTHEAST',\n",
       " 'NORTHEAST',\n",
       " 'NORTHEAST',\n",
       " 'NORTHEAST',\n",
       " 'NORTHEAST',\n",
       " 'NORTHEAST',\n",
       " 'NORTHEAST',\n",
       " 'NORTHEAST',\n",
       " 'NORTHEAST',\n",
       " 'NORTHEAST',\n",
       " 'NORTHEAST',\n",
       " 'NORTHEAST',\n",
       " 'NORTHEAST',\n",
       " 'NORTHEAST',\n",
       " 'NORTHEAST',\n",
       " 'NORTHEAST',\n",
       " 'NORTHEAST',\n",
       " 'NORTHEAST',\n",
       " 'NORTHEAST',\n",
       " 'NORTHEAST',\n",
       " 'NORTHEAST',\n",
       " 'NORTHEAST',\n",
       " 'NORTHEAST',\n",
       " 'NORTHEAST',\n",
       " 'NORTHEAST',\n",
       " 'NORTHEAST',\n",
       " 'NORTHEAST',\n",
       " 'NORTHEAST',\n",
       " 'NORTHEAST',\n",
       " 'NORTHEAST',\n",
       " 'NORTHEAST',\n",
       " 'NORTHEAST',\n",
       " 'NORTHEAST',\n",
       " 'NORTHEAST',\n",
       " 'NORTHEAST',\n",
       " 'NORTHEAST',\n",
       " 'NORTHEAST',\n",
       " 'NORTHEAST',\n",
       " 'NORTHEAST',\n",
       " 'NORTHEAST',\n",
       " 'NORTHEAST',\n",
       " 'NORTHEAST',\n",
       " 'NORTHEAST',\n",
       " 'NORTHEAST',\n",
       " 'NORTHEAST',\n",
       " 'NORTHEAST',\n",
       " 'NORTHEAST',\n",
       " 'NORTHEAST',\n",
       " 'NORTHEAST',\n",
       " 'NORTHEAST',\n",
       " 'NORTHEAST',\n",
       " 'NORTHEAST',\n",
       " 'NORTHEAST',\n",
       " 'NORTHEAST',\n",
       " 'NORTHEAST',\n",
       " 'NORTHEAST',\n",
       " 'NORTHEAST',\n",
       " 'NORTHEAST',\n",
       " 'NORTHEAST',\n",
       " 'NORTHEAST',\n",
       " 'NORTHEAST',\n",
       " 'NORTHEAST',\n",
       " 'NORTHEAST',\n",
       " 'NORTHEAST',\n",
       " 'NORTHEAST',\n",
       " 'NORTHEAST',\n",
       " 'NORTHEAST',\n",
       " 'NORTHEAST',\n",
       " 'NORTHEAST',\n",
       " 'NORTHEAST',\n",
       " 'NORTHEAST',\n",
       " 'NORTHEAST',\n",
       " 'NORTHEAST',\n",
       " 'NORTHEAST',\n",
       " 'NORTHEAST',\n",
       " 'NORTHEAST',\n",
       " 'NORTHEAST',\n",
       " 'NORTHEAST',\n",
       " 'NORTHEAST',\n",
       " 'NORTHEAST',\n",
       " 'NORTHEAST',\n",
       " 'NORTHEAST',\n",
       " 'NORTHEAST',\n",
       " 'NORTHEAST',\n",
       " 'NORTHEAST',\n",
       " 'NORTHEAST',\n",
       " 'NORTHEAST',\n",
       " 'NORTHEAST',\n",
       " 'NORTHEAST',\n",
       " 'NORTHEAST',\n",
       " 'NORTHEAST',\n",
       " 'NORTHEAST',\n",
       " 'NORTHEAST',\n",
       " 'NORTHEAST',\n",
       " 'NORTHEAST',\n",
       " 'NORTHEAST',\n",
       " 'NORTHEAST',\n",
       " 'NORTHEAST',\n",
       " 'NORTHEAST',\n",
       " 'NORTHEAST',\n",
       " 'NORTHEAST',\n",
       " 'NORTHEAST',\n",
       " 'NORTHEAST',\n",
       " 'NORTHEAST',\n",
       " 'NORTHEAST',\n",
       " 'NORTHEAST',\n",
       " 'NORTHEAST',\n",
       " 'NORTHEAST',\n",
       " 'NORTHEAST',\n",
       " 'NORTHEAST',\n",
       " 'NORTHEAST',\n",
       " 'NORTHEAST',\n",
       " 'NORTHEAST',\n",
       " 'NORTHEAST',\n",
       " 'NORTHEAST',\n",
       " 'NORTHEAST',\n",
       " 'NORTHEAST',\n",
       " 'NORTHEAST',\n",
       " 'NORTHEAST',\n",
       " 'NORTHEAST',\n",
       " 'NORTHEAST',\n",
       " 'NORTHEAST',\n",
       " 'NORTHEAST',\n",
       " 'NORTHEAST',\n",
       " 'NORTHEAST',\n",
       " 'NORTHEAST',\n",
       " 'NORTHEAST',\n",
       " 'NORTHEAST',\n",
       " 'NORTHEAST',\n",
       " 'NORTHEAST',\n",
       " 'NORTHEAST',\n",
       " 'NORTHEAST',\n",
       " 'NORTHEAST',\n",
       " 'NORTHEAST',\n",
       " 'NORTHEAST',\n",
       " 'NORTHEAST',\n",
       " 'NORTHEAST',\n",
       " 'NORTHEAST',\n",
       " 'NORTHEAST',\n",
       " 'NORTHEAST',\n",
       " 'NORTHEAST',\n",
       " 'NORTHEAST',\n",
       " 'NORTHEAST',\n",
       " 'NORTHEAST',\n",
       " 'NORTHEAST',\n",
       " 'NORTHEAST',\n",
       " 'NORTHEAST',\n",
       " 'NORTHEAST',\n",
       " 'NORTHEAST',\n",
       " 'NORTHEAST',\n",
       " 'NORTHEAST',\n",
       " 'NORTHEAST',\n",
       " 'NORTHEAST',\n",
       " 'NORTHEAST',\n",
       " 'NORTHEAST',\n",
       " 'NORTHEAST',\n",
       " 'NORTHEAST',\n",
       " 'NORTHEAST',\n",
       " 'NORTHEAST',\n",
       " 'NORTHEAST',\n",
       " 'NORTHEAST',\n",
       " 'NORTHEAST',\n",
       " 'NORTHEAST',\n",
       " 'NORTHEAST',\n",
       " 'NORTHEAST',\n",
       " 'NORTHEAST',\n",
       " 'NORTHEAST',\n",
       " 'NORTHEAST',\n",
       " 'NORTHEAST',\n",
       " 'NORTHEAST',\n",
       " 'NORTHEAST',\n",
       " 'NORTHEAST',\n",
       " 'NORTHEAST',\n",
       " 'NORTHEAST',\n",
       " 'NORTHEAST',\n",
       " 'NORTHEAST',\n",
       " 'NORTHEAST',\n",
       " 'NORTHEAST',\n",
       " 'NORTHEAST',\n",
       " 'NORTHEAST',\n",
       " 'NORTHEAST',\n",
       " 'NORTHEAST',\n",
       " 'NORTHEAST',\n",
       " 'NORTHEAST',\n",
       " 'NORTHEAST',\n",
       " 'NORTHEAST',\n",
       " 'NORTHEAST',\n",
       " 'NORTHEAST',\n",
       " 'NORTHEAST',\n",
       " 'NORTHEAST',\n",
       " 'NORTHEAST',\n",
       " 'NORTHEAST',\n",
       " 'NORTHEAST',\n",
       " 'NORTHEAST',\n",
       " 'NORTHEAST',\n",
       " 'NORTHEAST',\n",
       " 'NORTHEAST',\n",
       " 'NORTHEAST',\n",
       " 'NORTHEAST',\n",
       " 'NORTHEAST',\n",
       " 'NORTHEAST',\n",
       " 'NORTHEAST',\n",
       " 'NORTHEAST',\n",
       " 'NORTHEAST',\n",
       " 'NORTHEAST',\n",
       " 'NORTHEAST',\n",
       " 'NORTHEAST',\n",
       " 'NORTHEAST',\n",
       " 'NORTHEAST',\n",
       " 'NORTHEAST',\n",
       " 'NORTHEAST',\n",
       " 'NORTHEAST',\n",
       " 'NORTHEAST',\n",
       " 'NORTHEAST',\n",
       " 'NORTHEAST',\n",
       " 'NORTHEAST',\n",
       " 'NORTHEAST',\n",
       " 'NORTHEAST',\n",
       " 'NORTHEAST',\n",
       " 'NORTHEAST',\n",
       " 'NORTHEAST',\n",
       " 'NORTHEAST',\n",
       " 'NORTHEAST',\n",
       " 'NORTHEAST',\n",
       " 'NORTHEAST',\n",
       " 'NORTHEAST',\n",
       " 'NORTHEAST',\n",
       " 'NORTHEAST',\n",
       " 'NORTHEAST',\n",
       " 'NORTHEAST',\n",
       " 'NORTHEAST',\n",
       " 'NORTHEAST',\n",
       " 'NORTHEAST',\n",
       " 'NORTHEAST',\n",
       " 'NORTHEAST',\n",
       " 'NORTHEAST',\n",
       " 'NORTHEAST',\n",
       " 'NORTHEAST',\n",
       " 'NORTHEAST',\n",
       " 'NORTHEAST',\n",
       " 'NORTHEAST',\n",
       " 'NORTHEAST',\n",
       " 'NORTHEAST',\n",
       " 'NORTHEAST',\n",
       " 'NORTHEAST',\n",
       " 'NORTHEAST',\n",
       " 'NORTHEAST',\n",
       " 'NORTHEAST',\n",
       " 'NORTHEAST',\n",
       " 'NORTHEAST',\n",
       " 'NORTHEAST',\n",
       " 'NORTHEAST',\n",
       " 'NORTHEAST',\n",
       " 'NORTHEAST',\n",
       " 'NORTHEAST',\n",
       " 'NORTHEAST',\n",
       " 'NORTHEAST',\n",
       " 'NORTHEAST',\n",
       " 'NORTHEAST',\n",
       " 'NORTHEAST',\n",
       " 'NORTHEAST',\n",
       " 'NORTHEAST',\n",
       " 'NORTHEAST',\n",
       " 'NORTHEAST',\n",
       " 'NORTHEAST',\n",
       " 'NORTHEAST',\n",
       " 'NORTHEAST',\n",
       " 'NORTHEAST',\n",
       " 'NORTHEAST',\n",
       " 'NORTHEAST',\n",
       " 'NORTHEAST',\n",
       " 'NORTHEAST',\n",
       " 'NORTHEAST',\n",
       " 'NORTHEAST',\n",
       " 'NORTHEAST',\n",
       " 'NORTHEAST',\n",
       " 'NORTHEAST',\n",
       " 'NORTHEAST',\n",
       " 'NORTHEAST',\n",
       " 'NORTHEAST',\n",
       " 'NORTHEAST',\n",
       " 'NORTHEAST',\n",
       " 'NORTHEAST',\n",
       " 'NORTHEAST',\n",
       " 'NORTHEAST',\n",
       " 'NORTHEAST',\n",
       " 'NORTHEAST',\n",
       " 'NORTHEAST',\n",
       " 'NORTHEAST',\n",
       " 'NORTHEAST',\n",
       " 'NORTHEAST',\n",
       " 'NORTHEAST',\n",
       " 'NORTHEAST',\n",
       " 'NORTHEAST',\n",
       " 'NORTHEAST',\n",
       " 'NORTHEAST',\n",
       " 'NORTHEAST',\n",
       " 'NORTHEAST',\n",
       " 'NORTHEAST',\n",
       " 'NORTHEAST',\n",
       " 'NORTHEAST',\n",
       " 'NORTHEAST',\n",
       " 'NORTHEAST',\n",
       " 'NORTHEAST',\n",
       " 'NORTHEAST',\n",
       " 'NORTHEAST',\n",
       " 'NORTHEAST',\n",
       " 'NORTHEAST',\n",
       " 'NORTHEAST',\n",
       " 'NORTHEAST',\n",
       " 'NORTHEAST',\n",
       " 'NORTHEAST',\n",
       " 'NORTHEAST',\n",
       " 'NORTHEAST',\n",
       " 'NORTHEAST',\n",
       " 'NORTHEAST',\n",
       " 'NORTHEAST',\n",
       " 'NORTHEAST',\n",
       " 'NORTHEAST',\n",
       " 'NORTHEAST',\n",
       " 'NORTHEAST',\n",
       " 'NORTHEAST',\n",
       " 'NORTHEAST',\n",
       " 'NORTHEAST',\n",
       " 'NORTHEAST',\n",
       " 'NORTHEAST',\n",
       " 'NORTHEAST',\n",
       " 'NORTHEAST',\n",
       " 'NORTHEAST',\n",
       " 'NORTHEAST',\n",
       " 'NORTHEAST',\n",
       " 'NORTHEAST',\n",
       " 'NORTHEAST',\n",
       " 'NORTHEAST',\n",
       " 'NORTHEAST',\n",
       " 'NORTHEAST',\n",
       " 'NORTHEAST',\n",
       " 'NORTHEAST',\n",
       " 'NORTHEAST',\n",
       " 'NORTHEAST',\n",
       " 'NORTHEAST',\n",
       " 'NORTHEAST',\n",
       " 'NORTHEAST',\n",
       " 'NORTHEAST',\n",
       " 'NORTHEAST',\n",
       " 'NORTHEAST',\n",
       " 'NORTHEAST',\n",
       " 'NORTHEAST',\n",
       " 'NORTHEAST',\n",
       " 'NORTHEAST',\n",
       " 'NORTHEAST',\n",
       " 'NORTHEAST',\n",
       " 'NORTHEAST',\n",
       " 'NORTHEAST',\n",
       " 'NORTHEAST',\n",
       " 'NORTHEAST',\n",
       " 'NORTHEAST',\n",
       " 'NORTHEAST',\n",
       " 'NORTHEAST',\n",
       " 'NORTHEAST',\n",
       " 'NORTHEAST',\n",
       " 'NORTHEAST',\n",
       " 'NORTHEAST',\n",
       " 'NORTHEAST',\n",
       " 'NORTHEAST',\n",
       " 'NORTHEAST',\n",
       " 'NORTHEAST',\n",
       " 'NORTHEAST',\n",
       " 'NORTHEAST',\n",
       " 'NORTHEAST',\n",
       " 'NORTHEAST',\n",
       " 'NORTHEAST',\n",
       " 'NORTHEAST',\n",
       " 'NORTHEAST',\n",
       " 'NORTHEAST',\n",
       " 'NORTHEAST',\n",
       " 'NORTHEAST',\n",
       " 'NORTHEAST',\n",
       " 'NORTHEAST',\n",
       " 'NORTHEAST',\n",
       " 'NORTHEAST',\n",
       " 'NORTHEAST',\n",
       " 'NORTHEAST',\n",
       " 'NORTHEAST',\n",
       " 'NORTHEAST',\n",
       " 'NORTHEAST',\n",
       " 'NORTHEAST',\n",
       " 'NORTHEAST',\n",
       " 'NORTHEAST',\n",
       " 'NORTHEAST',\n",
       " 'NORTHEAST',\n",
       " 'NORTHEAST',\n",
       " 'NORTHEAST',\n",
       " 'NORTHEAST',\n",
       " 'NORTHEAST',\n",
       " 'NORTHEAST',\n",
       " 'NORTHEAST',\n",
       " 'NORTHEAST',\n",
       " 'NORTHEAST',\n",
       " 'NORTHEAST',\n",
       " 'NORTHEAST',\n",
       " 'NORTHEAST',\n",
       " 'NORTHEAST',\n",
       " 'NORTHEAST',\n",
       " 'NORTHEAST',\n",
       " 'NORTHEAST',\n",
       " 'NORTHEAST',\n",
       " 'NORTHEAST',\n",
       " 'NORTHEAST',\n",
       " 'NORTHEAST',\n",
       " 'NORTHEAST',\n",
       " 'NORTHEAST',\n",
       " 'NORTHEAST',\n",
       " 'NORTHEAST',\n",
       " 'NORTHEAST',\n",
       " 'NORTHEAST',\n",
       " 'NORTHEAST',\n",
       " 'NORTHEAST',\n",
       " 'NORTHEAST',\n",
       " 'NORTHEAST',\n",
       " 'NORTHEAST',\n",
       " 'NORTHEAST',\n",
       " 'NORTHEAST',\n",
       " 'NORTHEAST',\n",
       " 'NORTHEAST',\n",
       " 'NORTHEAST',\n",
       " 'NORTHEAST',\n",
       " 'NORTHEAST',\n",
       " 'NORTHEAST',\n",
       " 'NORTHEAST',\n",
       " 'NORTHEAST',\n",
       " 'NORTHEAST',\n",
       " 'NORTHEAST',\n",
       " 'NORTHEAST',\n",
       " 'NORTHEAST',\n",
       " 'NORTHEAST',\n",
       " 'NORTHEAST',\n",
       " 'NORTHEAST',\n",
       " 'NORTHEAST',\n",
       " 'NORTHEAST',\n",
       " 'NORTHEAST',\n",
       " 'NORTHEAST',\n",
       " 'NORTHEAST',\n",
       " 'NORTHEAST',\n",
       " 'NORTHEAST',\n",
       " 'NORTHEAST',\n",
       " 'NORTHEAST',\n",
       " 'NORTHEAST',\n",
       " 'NORTHEAST',\n",
       " 'NORTHEAST',\n",
       " 'NORTHEAST',\n",
       " 'NORTHEAST',\n",
       " 'NORTHEAST',\n",
       " 'NORTHEAST',\n",
       " 'NORTHEAST',\n",
       " 'NORTHEAST',\n",
       " 'NORTHEAST',\n",
       " 'NORTHEAST',\n",
       " 'NORTHEAST',\n",
       " 'NORTHEAST',\n",
       " 'NORTHEAST',\n",
       " 'NORTHEAST',\n",
       " 'NORTHEAST',\n",
       " 'NORTHEAST',\n",
       " 'NORTHEAST',\n",
       " 'NORTHEAST',\n",
       " 'NORTHEAST',\n",
       " 'NORTHEAST',\n",
       " 'NORTHEAST',\n",
       " 'NORTHEAST',\n",
       " 'NORTHEAST',\n",
       " 'NORTHEAST',\n",
       " 'NORTHEAST',\n",
       " 'NORTHEAST',\n",
       " 'NORTHEAST',\n",
       " 'NORTHEAST',\n",
       " 'NORTHEAST',\n",
       " 'NORTHEAST',\n",
       " 'NORTHEAST',\n",
       " 'NORTHEAST',\n",
       " 'NORTHEAST',\n",
       " 'NORTHEAST',\n",
       " 'NORTHEAST',\n",
       " 'NORTHEAST',\n",
       " 'NORTHEAST',\n",
       " 'NORTHEAST',\n",
       " 'NORTHEAST',\n",
       " 'NORTHEAST',\n",
       " 'NORTHEAST',\n",
       " 'NORTHEAST',\n",
       " 'NORTHEAST',\n",
       " 'NORTHEAST',\n",
       " 'NORTHEAST',\n",
       " 'NORTHEAST',\n",
       " 'NORTHEAST',\n",
       " 'NORTHEAST',\n",
       " 'NORTHEAST',\n",
       " 'NORTHEAST',\n",
       " 'NORTHEAST',\n",
       " 'NORTHEAST',\n",
       " 'NORTHEAST',\n",
       " 'NORTHEAST',\n",
       " 'NORTHEAST',\n",
       " 'NORTHEAST',\n",
       " 'NORTHEAST',\n",
       " 'NORTHEAST',\n",
       " 'NORTHEAST',\n",
       " 'NORTHEAST',\n",
       " 'NORTHEAST',\n",
       " 'NORTHEAST',\n",
       " 'NORTHEAST',\n",
       " 'NORTHEAST',\n",
       " 'NORTHEAST',\n",
       " 'NORTHEAST',\n",
       " 'NORTHEAST',\n",
       " 'NORTHEAST',\n",
       " 'NORTHEAST',\n",
       " 'NORTHEAST',\n",
       " 'NORTHEAST',\n",
       " 'NORTHEAST',\n",
       " 'NORTHEAST',\n",
       " 'NORTHEAST',\n",
       " 'NORTHEAST',\n",
       " 'NORTHEAST',\n",
       " 'NORTHEAST',\n",
       " 'NORTHEAST',\n",
       " 'NORTHEAST',\n",
       " 'NORTHEAST',\n",
       " 'NORTHEAST',\n",
       " 'NORTHEAST',\n",
       " 'NORTHEAST',\n",
       " 'NORTHEAST',\n",
       " 'NORTHEAST',\n",
       " 'NORTHEAST',\n",
       " 'NORTHEAST',\n",
       " 'NORTHEAST',\n",
       " 'NORTHEAST',\n",
       " 'NORTHEAST',\n",
       " 'NORTHEAST',\n",
       " 'NORTHEAST',\n",
       " 'NORTHEAST',\n",
       " 'NORTHEAST',\n",
       " 'NORTHEAST',\n",
       " 'NORTHEAST',\n",
       " 'NORTHEAST',\n",
       " 'NORTHEAST',\n",
       " 'NORTHEAST',\n",
       " 'NORTHEAST',\n",
       " 'NORTHEAST',\n",
       " 'NORTHEAST',\n",
       " 'NORTHEAST',\n",
       " 'NORTHEAST',\n",
       " 'NORTHEAST',\n",
       " 'NORTHEAST',\n",
       " 'NORTHEAST',\n",
       " 'NORTHEAST',\n",
       " 'NORTHEAST',\n",
       " 'NORTHEAST',\n",
       " 'NORTHEAST',\n",
       " 'NORTHEAST',\n",
       " 'NORTHEAST',\n",
       " 'NORTHEAST',\n",
       " 'NORTHEAST',\n",
       " 'NORTHEAST',\n",
       " 'NORTHEAST',\n",
       " 'NORTHEAST',\n",
       " 'NORTHEAST',\n",
       " 'NORTHEAST',\n",
       " 'NORTHEAST',\n",
       " 'NORTHEAST',\n",
       " 'NORTHEAST',\n",
       " 'NORTHEAST',\n",
       " 'NORTHEAST',\n",
       " 'NORTHEAST',\n",
       " 'NORTHEAST',\n",
       " 'NORTHEAST',\n",
       " 'NORTHEAST',\n",
       " 'NORTHEAST',\n",
       " 'NORTHEAST',\n",
       " 'NORTHEAST',\n",
       " 'NORTHEAST',\n",
       " 'NORTHEAST',\n",
       " 'NORTHEAST',\n",
       " 'NORTHEAST',\n",
       " 'NORTHEAST',\n",
       " 'NORTHEAST',\n",
       " 'NORTHEAST',\n",
       " 'NORTHEAST',\n",
       " 'NORTHEAST',\n",
       " 'NORTHEAST',\n",
       " 'NORTHEAST',\n",
       " 'NORTHEAST',\n",
       " 'NORTHEAST',\n",
       " 'NORTHEAST',\n",
       " 'NORTHEAST',\n",
       " 'NORTHEAST',\n",
       " 'NORTHEAST',\n",
       " 'NORTHEAST',\n",
       " 'NORTHEAST',\n",
       " 'NORTHEAST',\n",
       " 'NORTHEAST',\n",
       " 'NORTHEAST',\n",
       " 'NORTHEAST',\n",
       " 'NORTHEAST',\n",
       " 'NORTHEAST',\n",
       " 'NORTHEAST',\n",
       " 'NORTHEAST',\n",
       " 'NORTHEAST',\n",
       " 'NORTHEAST',\n",
       " 'NORTHEAST',\n",
       " 'NORTHEAST',\n",
       " 'NORTHEAST',\n",
       " 'NORTHEAST',\n",
       " 'NORTHEAST',\n",
       " 'NORTHEAST',\n",
       " 'NORTHEAST',\n",
       " 'NORTHEAST',\n",
       " 'NORTHEAST',\n",
       " 'NORTHEAST',\n",
       " 'NORTHEAST',\n",
       " 'NORTHEAST',\n",
       " 'NORTHEAST',\n",
       " 'NORTHEAST',\n",
       " 'NORTHEAST',\n",
       " 'NORTHEAST',\n",
       " 'NORTHEAST',\n",
       " 'NORTHEAST',\n",
       " 'NORTHEAST',\n",
       " 'NORTHEAST',\n",
       " 'NORTHEAST',\n",
       " 'NORTHEAST',\n",
       " 'NORTHEAST',\n",
       " 'NORTHEAST',\n",
       " 'NORTHEAST',\n",
       " 'NORTHEAST',\n",
       " 'NORTHEAST',\n",
       " 'NORTHEAST',\n",
       " 'NORTHEAST',\n",
       " 'NORTHEAST',\n",
       " 'NORTHEAST',\n",
       " 'NORTHEAST',\n",
       " 'NORTHEAST',\n",
       " 'NORTHEAST',\n",
       " 'NORTHEAST',\n",
       " 'NORTHEAST',\n",
       " 'NORTHEAST',\n",
       " 'NORTHEAST',\n",
       " 'NORTHEAST',\n",
       " 'NORTHEAST',\n",
       " 'NORTHEAST',\n",
       " 'NORTHEAST',\n",
       " 'NORTHEAST',\n",
       " 'NORTHEAST',\n",
       " 'NORTHEAST',\n",
       " 'NORTHEAST',\n",
       " 'NORTHEAST',\n",
       " 'NORTHEAST',\n",
       " 'NORTHEAST',\n",
       " 'NORTHEAST',\n",
       " 'NORTHEAST',\n",
       " 'NORTHEAST',\n",
       " 'NORTHEAST',\n",
       " 'NORTHEAST',\n",
       " 'NORTHEAST',\n",
       " 'NORTHEAST',\n",
       " 'NORTHEAST',\n",
       " 'NORTHEAST',\n",
       " 'NORTHEAST',\n",
       " 'NORTHEAST',\n",
       " 'NORTHEAST',\n",
       " 'NORTHEAST',\n",
       " 'NORTHEAST',\n",
       " 'NORTHEAST',\n",
       " 'NORTHEAST',\n",
       " 'NORTHEAST',\n",
       " 'NORTHEAST',\n",
       " 'NORTHEAST',\n",
       " 'NORTHEAST',\n",
       " 'NORTHEAST',\n",
       " 'NORTHEAST',\n",
       " 'NORTHEAST',\n",
       " 'NORTHEAST',\n",
       " 'NORTHEAST',\n",
       " 'NORTHEAST',\n",
       " 'NORTHEAST',\n",
       " 'NORTHEAST',\n",
       " 'NORTHEAST',\n",
       " 'NORTHEAST',\n",
       " 'NORTHEAST',\n",
       " 'NORTHEAST',\n",
       " 'NORTHEAST',\n",
       " 'NORTHEAST',\n",
       " 'NORTHEAST',\n",
       " 'NORTHEAST',\n",
       " 'NORTHEAST',\n",
       " 'NORTHEAST',\n",
       " 'NORTHEAST',\n",
       " 'NORTHEAST',\n",
       " 'NORTHEAST',\n",
       " 'NORTHEAST',\n",
       " 'NORTHEAST',\n",
       " 'NORTHEAST',\n",
       " 'NORTHEAST',\n",
       " 'NORTHEAST',\n",
       " 'NORTHEAST',\n",
       " 'NORTHEAST',\n",
       " 'NORTHEAST',\n",
       " 'NORTHEAST',\n",
       " 'NORTHEAST',\n",
       " 'NORTHEAST',\n",
       " 'NORTHEAST',\n",
       " 'NORTHEAST',\n",
       " 'NORTHEAST',\n",
       " 'NORTHEAST',\n",
       " 'NORTHEAST',\n",
       " 'NORTHEAST',\n",
       " 'NORTHEAST',\n",
       " 'NORTHEAST',\n",
       " 'NORTHEAST',\n",
       " 'NORTHEAST',\n",
       " 'NORTHEAST',\n",
       " 'NORTHEAST',\n",
       " 'NORTHEAST',\n",
       " 'NORTHEAST',\n",
       " 'NORTHEAST',\n",
       " 'NORTHEAST',\n",
       " 'NORTHEAST',\n",
       " 'NORTHEAST',\n",
       " 'NORTHEAST',\n",
       " 'NORTHEAST',\n",
       " 'NORTHEAST',\n",
       " 'NORTHEAST',\n",
       " 'NORTHEAST',\n",
       " 'NORTHEAST',\n",
       " 'NORTHEAST',\n",
       " 'NORTHEAST',\n",
       " 'NORTHEAST',\n",
       " 'NORTHEAST',\n",
       " 'NORTHEAST',\n",
       " 'NORTHEAST',\n",
       " 'NORTHEAST',\n",
       " 'NORTHEAST',\n",
       " 'NORTHEAST',\n",
       " 'NORTHEAST',\n",
       " 'NORTHEAST',\n",
       " 'NORTHEAST',\n",
       " 'NORTHEAST',\n",
       " 'NORTHEAST',\n",
       " 'NORTHEAST',\n",
       " 'NORTHEAST',\n",
       " 'NORTHEAST',\n",
       " 'NORTHEAST',\n",
       " 'NORTHEAST',\n",
       " 'NORTHEAST',\n",
       " 'NORTHEAST',\n",
       " 'NORTHEAST',\n",
       " 'NORTHEAST',\n",
       " 'NORTHEAST',\n",
       " 'NORTHEAST',\n",
       " 'NORTHEAST',\n",
       " 'NORTHEAST',\n",
       " 'NORTHEAST',\n",
       " 'NORTHEAST',\n",
       " 'NORTHEAST',\n",
       " 'NORTHEAST',\n",
       " ...]"
      ]
     },
     "execution_count": 33,
     "metadata": {},
     "output_type": "execute_result"
    }
   ],
   "source": [
    "class OneRuleBaseline:\n",
    "    \n",
    "    prediction = \"Fit hasn't been called.\"\n",
    "    \n",
    "    def fit (self, X, y):\n",
    "        self.prediction = y.value_counts().index[0]\n",
    "    \n",
    "    def predict(self, X):\n",
    "        return [self.prediction]*len(X)\n",
    "                      \n",
    "\n",
    "X = list(train_preprocessed.feature_array)\n",
    "y = train_preprocessed.region\n",
    "\n",
    "baseline = OneRuleBaseline()\n",
    "baseline.fit(X,y)\n",
    "baseline.predict(X)"
   ]
  },
  {
   "cell_type": "code",
   "execution_count": 34,
   "metadata": {},
   "outputs": [
    {
     "name": "stdout",
     "output_type": "stream",
     "text": [
      "***** Training Set Performance ******\n",
      "              precision    recall  f1-score   support\n",
      "\n",
      "     MIDWEST       0.00      0.00      0.00     14958\n",
      "   NORTHEAST       0.39      1.00      0.56     50901\n",
      "       SOUTH       0.00      0.00      0.00     48590\n",
      "        WEST       0.00      0.00      0.00     16091\n",
      "\n",
      "    accuracy                           0.39    130540\n",
      "   macro avg       0.10      0.25      0.14    130540\n",
      "weighted avg       0.15      0.39      0.22    130540\n",
      "\n",
      "***** Training Confusion Matrix ******\n",
      "[[    0 14958     0     0]\n",
      " [    0 50901     0     0]\n",
      " [    0 48590     0     0]\n",
      " [    0 16091     0     0]]\n",
      "\n",
      "***** Dev Set Performance ******\n",
      "              precision    recall  f1-score   support\n",
      "\n",
      "     MIDWEST       0.00      0.00      0.00      1484\n",
      "   NORTHEAST       0.37      1.00      0.54      4295\n",
      "       SOUTH       0.00      0.00      0.00      4266\n",
      "        WEST       0.00      0.00      0.00      1430\n",
      "\n",
      "    accuracy                           0.37     11475\n",
      "   macro avg       0.09      0.25      0.14     11475\n",
      "weighted avg       0.14      0.37      0.20     11475\n",
      "\n",
      "***** Dev Confusion Matrix ******\n",
      "[[   0 1484    0    0]\n",
      " [   0 4295    0    0]\n",
      " [   0 4266    0    0]\n",
      " [   0 1430    0    0]]\n"
     ]
    }
   ],
   "source": [
    "get_report(baseline)"
   ]
  },
  {
   "cell_type": "markdown",
   "metadata": {},
   "source": [
    "The baseline accuracy for training dataset is 39% and the baseline accuracy for the dev dataset is 37% accuracy. \n",
    "\n",
    "The baseline macro avg f1 score is 14% for the training and 14% for the dev."
   ]
  },
  {
   "cell_type": "markdown",
   "metadata": {},
   "source": [
    "# Training Logistic Regression"
   ]
  },
  {
   "cell_type": "markdown",
   "metadata": {},
   "source": [
    "Naive Bayes is based on applying Bayes' theorem with strong independence assumptions between the features. Since my training features is the averaged word vector for the tweet, each variable is not independent from the rest.\n",
    "\n",
    "Logisitic Regression handles feature variables that are not fully independent better, and it allows for negative feature values, so  using it as the first simple model would be a better idea. It unfortunately handles larger data less/quickly than Naive Bayes does ( takes longer to converge to it's best performance) so we will likely have to increase the maximum training interations parameter in sklearn. "
   ]
  },
  {
   "cell_type": "code",
   "execution_count": 35,
   "metadata": {},
   "outputs": [],
   "source": [
    "from sklearn.linear_model import LogisticRegression\n",
    "from sklearn.metrics import plot_confusion_matrix"
   ]
  },
  {
   "cell_type": "code",
   "execution_count": 36,
   "metadata": {},
   "outputs": [
    {
     "data": {
      "text/plain": [
       "LogisticRegression(max_iter=1000)"
      ]
     },
     "execution_count": 36,
     "metadata": {},
     "output_type": "execute_result"
    }
   ],
   "source": [
    "X = list(train_preprocessed.feature_array)\n",
    "y = train_preprocessed.region\n",
    "\n",
    "lr_baseline1 = LogisticRegression(max_iter = 1000)\n",
    "lr_baseline1.fit(X, y)"
   ]
  },
  {
   "cell_type": "code",
   "execution_count": 37,
   "metadata": {},
   "outputs": [],
   "source": [
    "def get_report(model):\n",
    "    print('***** Training Set Performance ******')\n",
    "    train_pred = model.predict(X)\n",
    "    train_actual = y\n",
    "    \n",
    "    print(classification_report(train_actual,train_pred))\n",
    "    \n",
    "    plot_confusion_matrix(model,X,y)\n",
    "    plt.show() \n",
    "    \n",
    "    print('\\n***** Dev Set Performance ******')\n",
    "    dev_pred = model.predict(list(dev.feature_array))\n",
    "    dev_actual = dev.region\n",
    "    \n",
    "    print(classification_report(dev_actual,dev_pred))\n",
    "    \n",
    "    plot_confusion_matrix(model,list(dev.feature_array),dev_actual)\n",
    "    plt.show() "
   ]
  },
  {
   "cell_type": "code",
   "execution_count": 38,
   "metadata": {
    "scrolled": false
   },
   "outputs": [
    {
     "name": "stdout",
     "output_type": "stream",
     "text": [
      "***** Training Set Performance ******\n",
      "              precision    recall  f1-score   support\n",
      "\n",
      "     MIDWEST       0.18      0.00      0.00     14958\n",
      "   NORTHEAST       0.48      0.60      0.53     50901\n",
      "       SOUTH       0.43      0.58      0.49     48590\n",
      "        WEST       0.34      0.00      0.01     16091\n",
      "\n",
      "    accuracy                           0.45    130540\n",
      "   macro avg       0.36      0.30      0.26    130540\n",
      "weighted avg       0.41      0.45      0.39    130540\n",
      "\n"
     ]
    },
    {
     "data": {
      "image/png": "[encoded data removed]",
      "text/plain": [
       "<Figure size 432x288 with 2 Axes>"
      ]
     },
     "metadata": {
      "needs_background": "light"
     },
     "output_type": "display_data"
    },
    {
     "name": "stdout",
     "output_type": "stream",
     "text": [
      "\n",
      "***** Dev Set Performance ******\n",
      "              precision    recall  f1-score   support\n",
      "\n",
      "     MIDWEST       0.00      0.00      0.00      1484\n",
      "   NORTHEAST       0.46      0.60      0.52      4295\n",
      "       SOUTH       0.42      0.57      0.48      4266\n",
      "        WEST       0.24      0.00      0.01      1430\n",
      "\n",
      "    accuracy                           0.44     11475\n",
      "   macro avg       0.28      0.29      0.25     11475\n",
      "weighted avg       0.36      0.44      0.37     11475\n",
      "\n"
     ]
    },
    {
     "data": {
      "image/png": "[encoded data removed]",
      "text/plain": [
       "<Figure size 432x288 with 2 Axes>"
      ]
     },
     "metadata": {
      "needs_background": "light"
     },
     "output_type": "display_data"
    }
   ],
   "source": [
    "get_report(lr_baseline1)"
   ]
  },
  {
   "cell_type": "markdown",
   "metadata": {},
   "source": [
    "Our LR model only gets a 45% accuracy on our training set and 44% accuracy on our dev set. \n",
    "\n",
    "It barely captures any of the datapoints with MIDWEST & WEST as target labels. Those are the target labels that aren't well represented in the training data. "
   ]
  },
  {
   "cell_type": "markdown",
   "metadata": {},
   "source": [
    "# Upsample Minority Class to Improve Class Imbalance"
   ]
  },
  {
   "cell_type": "code",
   "execution_count": 39,
   "metadata": {},
   "outputs": [],
   "source": [
    "from sklearn.utils import resample"
   ]
  },
  {
   "cell_type": "code",
   "execution_count": 40,
   "metadata": {},
   "outputs": [
    {
     "data": {
      "text/plain": [
       "NORTHEAST    50901\n",
       "SOUTH        48590\n",
       "WEST         16091\n",
       "MIDWEST      14958\n",
       "Name: region, dtype: int64"
      ]
     },
     "execution_count": 40,
     "metadata": {},
     "output_type": "execute_result"
    }
   ],
   "source": [
    "train_preprocessed.region.value_counts()"
   ]
  },
  {
   "cell_type": "code",
   "execution_count": 41,
   "metadata": {},
   "outputs": [],
   "source": [
    "train_min = train_preprocessed[train_preprocessed.region.isin(['MIDWEST','WEST'])]\n",
    "train_maj = train_preprocessed[train_preprocessed.region.isin(['NORTHEAST','SOUTH'])]"
   ]
  },
  {
   "cell_type": "code",
   "execution_count": 42,
   "metadata": {},
   "outputs": [
    {
     "data": {
      "image/png": "[encoded data removed]",
      "text/plain": [
       "<Figure size 432x288 with 1 Axes>"
      ]
     },
     "metadata": {
      "needs_background": "light"
     },
     "output_type": "display_data"
    }
   ],
   "source": [
    "train_min_upsampled = resample(train_min, replace=True, n_samples=60000, random_state=1)\n",
    "train_upsampled = pd.concat([train_maj, train_min_upsampled])\n",
    " \n",
    "sns.histplot(train_upsampled.region).set_title('Class Distribution with Upsampling');"
   ]
  },
  {
   "cell_type": "markdown",
   "metadata": {},
   "source": [
    "# Retrain LR to See if Upsampling Helped"
   ]
  },
  {
   "cell_type": "code",
   "execution_count": 43,
   "metadata": {
    "scrolled": false
   },
   "outputs": [
    {
     "name": "stdout",
     "output_type": "stream",
     "text": [
      "***** Training Set Performance ******\n",
      "              precision    recall  f1-score   support\n",
      "\n",
      "     MIDWEST       0.31      0.02      0.04     28948\n",
      "   NORTHEAST       0.40      0.59      0.48     50901\n",
      "       SOUTH       0.35      0.55      0.42     48590\n",
      "        WEST       0.34      0.07      0.11     31052\n",
      "\n",
      "    accuracy                           0.37    159491\n",
      "   macro avg       0.35      0.31      0.26    159491\n",
      "weighted avg       0.36      0.37      0.31    159491\n",
      "\n"
     ]
    },
    {
     "data": {
      "image/png": "[encoded data removed]",
      "text/plain": [
       "<Figure size 432x288 with 2 Axes>"
      ]
     },
     "metadata": {
      "needs_background": "light"
     },
     "output_type": "display_data"
    },
    {
     "name": "stdout",
     "output_type": "stream",
     "text": [
      "\n",
      "***** Dev Set Performance ******\n",
      "              precision    recall  f1-score   support\n",
      "\n",
      "     MIDWEST       0.05      0.00      0.01      1484\n",
      "   NORTHEAST       0.46      0.58      0.52      4295\n",
      "       SOUTH       0.42      0.54      0.47      4266\n",
      "        WEST       0.17      0.06      0.08      1430\n",
      "\n",
      "    accuracy                           0.43     11475\n",
      "   macro avg       0.28      0.30      0.27     11475\n",
      "weighted avg       0.36      0.43      0.38     11475\n",
      "\n"
     ]
    },
    {
     "data": {
      "image/png": "[encoded data removed]",
      "text/plain": [
       "<Figure size 432x288 with 2 Axes>"
      ]
     },
     "metadata": {
      "needs_background": "light"
     },
     "output_type": "display_data"
    }
   ],
   "source": [
    "X = list(train_upsampled.feature_array)\n",
    "y = train_upsampled.region\n",
    "\n",
    "lr_baseline2 = LogisticRegression(max_iter = 1000)\n",
    "lr_baseline2.fit(X, y)\n",
    "get_report(lr_baseline2)"
   ]
  },
  {
   "cell_type": "markdown",
   "metadata": {},
   "source": [
    "Upsampling helped a bit but not nearly enough. The majority of the datapoints are still getting a prediction of Northeast or South."
   ]
  },
  {
   "cell_type": "markdown",
   "metadata": {},
   "source": [
    "# Downsampling Majority Class"
   ]
  },
  {
   "cell_type": "code",
   "execution_count": 44,
   "metadata": {},
   "outputs": [
    {
     "data": {
      "image/png": "[encoded data removed]",
      "text/plain": [
       "<Figure size 432x288 with 1 Axes>"
      ]
     },
     "metadata": {
      "needs_background": "light"
     },
     "output_type": "display_data"
    }
   ],
   "source": [
    "train_maj_downsampled = resample(train_maj, replace=False, n_samples=60000, random_state = 1)\n",
    "train_upANDdownsampled = pd.concat([train_maj_downsampled, train_min_upsampled])\n",
    "\n",
    "sns.histplot(train_upANDdownsampled.region).set_title('Class Distribution with Upsampling and Downsampling');"
   ]
  },
  {
   "cell_type": "markdown",
   "metadata": {},
   "source": [
    "# Retrain LR to See if Downsampling Helped"
   ]
  },
  {
   "cell_type": "code",
   "execution_count": 45,
   "metadata": {},
   "outputs": [
    {
     "name": "stdout",
     "output_type": "stream",
     "text": [
      "***** Training Set Performance ******\n",
      "              precision    recall  f1-score   support\n",
      "\n",
      "     MIDWEST       0.31      0.30      0.30     28948\n",
      "   NORTHEAST       0.37      0.46      0.41     30738\n",
      "       SOUTH       0.32      0.21      0.25     29262\n",
      "        WEST       0.33      0.38      0.35     31052\n",
      "\n",
      "    accuracy                           0.34    120000\n",
      "   macro avg       0.33      0.33      0.33    120000\n",
      "weighted avg       0.33      0.34      0.33    120000\n",
      "\n"
     ]
    },
    {
     "data": {
      "image/png": "[encoded data removed]",
      "text/plain": [
       "<Figure size 432x288 with 2 Axes>"
      ]
     },
     "metadata": {
      "needs_background": "light"
     },
     "output_type": "display_data"
    },
    {
     "name": "stdout",
     "output_type": "stream",
     "text": [
      "\n",
      "***** Dev Set Performance ******\n",
      "              precision    recall  f1-score   support\n",
      "\n",
      "     MIDWEST       0.16      0.26      0.20      1484\n",
      "   NORTHEAST       0.49      0.45      0.47      4295\n",
      "       SOUTH       0.43      0.18      0.26      4266\n",
      "        WEST       0.15      0.33      0.20      1430\n",
      "\n",
      "    accuracy                           0.31     11475\n",
      "   macro avg       0.30      0.31      0.28     11475\n",
      "weighted avg       0.38      0.31      0.32     11475\n",
      "\n"
     ]
    },
    {
     "data": {
      "image/png": "[encoded data removed]",
      "text/plain": [
       "<Figure size 432x288 with 2 Axes>"
      ]
     },
     "metadata": {
      "needs_background": "light"
     },
     "output_type": "display_data"
    }
   ],
   "source": [
    "X = list(train_upANDdownsampled.feature_array)\n",
    "y = train_upANDdownsampled.region\n",
    "\n",
    "lr_baseline3 = LogisticRegression(max_iter = 1000)\n",
    "lr_baseline3.fit(X, y)\n",
    "get_report(lr_baseline3)"
   ]
  },
  {
   "cell_type": "markdown",
   "metadata": {},
   "source": [
    "Upsampling & Downsampling reduced the 'Accuracy' of our overall LR model, but made the recall across our 4 target classes more event -- giving us a higher macro averaged f1 score. "
   ]
  },
  {
   "cell_type": "markdown",
   "metadata": {},
   "source": [
    "# OVR LR"
   ]
  },
  {
   "cell_type": "markdown",
   "metadata": {},
   "source": [
    "The confusion matrices show that a lot of the class labels are not getting correctly predicted. So we would have to see if running a One vs. Rest LR helps reduce the class bias."
   ]
  },
  {
   "cell_type": "code",
   "execution_count": 46,
   "metadata": {},
   "outputs": [
    {
     "name": "stdout",
     "output_type": "stream",
     "text": [
      "***** Training Set Performance ******\n",
      "              precision    recall  f1-score   support\n",
      "\n",
      "     MIDWEST       0.31      0.29      0.30     28948\n",
      "   NORTHEAST       0.37      0.47      0.41     30738\n",
      "       SOUTH       0.32      0.20      0.24     29262\n",
      "        WEST       0.33      0.38      0.35     31052\n",
      "\n",
      "    accuracy                           0.34    120000\n",
      "   macro avg       0.33      0.33      0.33    120000\n",
      "weighted avg       0.33      0.34      0.33    120000\n",
      "\n"
     ]
    },
    {
     "data": {
      "image/png": "[encoded data removed]",
      "text/plain": [
       "<Figure size 432x288 with 2 Axes>"
      ]
     },
     "metadata": {
      "needs_background": "light"
     },
     "output_type": "display_data"
    },
    {
     "name": "stdout",
     "output_type": "stream",
     "text": [
      "\n",
      "***** Dev Set Performance ******\n",
      "              precision    recall  f1-score   support\n",
      "\n",
      "     MIDWEST       0.16      0.25      0.19      1484\n",
      "   NORTHEAST       0.49      0.46      0.47      4295\n",
      "       SOUTH       0.43      0.18      0.25      4266\n",
      "        WEST       0.14      0.33      0.20      1430\n",
      "\n",
      "    accuracy                           0.31     11475\n",
      "   macro avg       0.30      0.31      0.28     11475\n",
      "weighted avg       0.38      0.31      0.32     11475\n",
      "\n"
     ]
    },
    {
     "data": {
      "image/png": "[encoded data removed]",
      "text/plain": [
       "<Figure size 432x288 with 2 Axes>"
      ]
     },
     "metadata": {
      "needs_background": "light"
     },
     "output_type": "display_data"
    }
   ],
   "source": [
    "X = list(train_upANDdownsampled.feature_array)\n",
    "y = train_upANDdownsampled.region\n",
    "\n",
    "lr_baseline4 = LogisticRegression(max_iter = 1000, multi_class='ovr')\n",
    "lr_baseline4.fit(X, y)\n",
    "get_report(lr_baseline4)"
   ]
  },
  {
   "cell_type": "markdown",
   "metadata": {},
   "source": [
    "# Comparisons of LR"
   ]
  },
  {
   "cell_type": "code",
   "execution_count": 47,
   "metadata": {},
   "outputs": [],
   "source": [
    "from sklearn.metrics import precision_recall_fscore_support"
   ]
  },
  {
   "cell_type": "code",
   "execution_count": 48,
   "metadata": {},
   "outputs": [],
   "source": [
    "def get_dev_plot(models, metric = 'f1'):\n",
    "    print('\\n***** Dev Set Performance ******')\n",
    "    print(metric)\n",
    "    dev_actual = dev.region\n",
    "    \n",
    "    metrics = []\n",
    "    x = []\n",
    "    for i, model in enumerate(models):\n",
    "        dev_pred = model.predict(list(dev.feature_array))\n",
    "        metrics.append(precision_recall_fscore_support(dev_actual,dev_pred, average = 'macro'))\n",
    "        x.append('v'+str(i))\n",
    "        \n",
    "    if metric == 'precision':\n",
    "        y = [m[0] for m in metrics]\n",
    "        plt.bar(x,y)\n",
    "        plt.show() \n",
    "        \n",
    "    if metric == 'recall':\n",
    "        y = [m[1] for m in metrics]\n",
    "        plt.bar(x,y)\n",
    "        plt.show() \n",
    "        \n",
    "    if metric == 'f1':\n",
    "        y = [m[2] for m in metrics]\n",
    "        plt.bar(x,y)\n",
    "        plt.show()   \n",
    "        \n"
   ]
  },
  {
   "cell_type": "code",
   "execution_count": 49,
   "metadata": {},
   "outputs": [
    {
     "name": "stdout",
     "output_type": "stream",
     "text": [
      "\n",
      "***** Dev Set Performance ******\n",
      "precision\n"
     ]
    },
    {
     "data": {
      "image/png": "[encoded data removed]",
      "text/plain": [
       "<Figure size 432x288 with 1 Axes>"
      ]
     },
     "metadata": {
      "needs_background": "light"
     },
     "output_type": "display_data"
    }
   ],
   "source": [
    "get_dev_plot([lr_baseline1, lr_baseline2, lr_baseline3, lr_baseline4], metric = 'precision')"
   ]
  },
  {
   "cell_type": "code",
   "execution_count": 50,
   "metadata": {},
   "outputs": [
    {
     "name": "stdout",
     "output_type": "stream",
     "text": [
      "\n",
      "***** Dev Set Performance ******\n",
      "recall\n"
     ]
    },
    {
     "data": {
      "image/png": "[encoded data removed]",
      "text/plain": [
       "<Figure size 432x288 with 1 Axes>"
      ]
     },
     "metadata": {
      "needs_background": "light"
     },
     "output_type": "display_data"
    }
   ],
   "source": [
    "get_dev_plot([lr_baseline1, lr_baseline2, lr_baseline3, lr_baseline4], metric = 'recall')"
   ]
  },
  {
   "cell_type": "code",
   "execution_count": 51,
   "metadata": {
    "scrolled": true
   },
   "outputs": [
    {
     "name": "stdout",
     "output_type": "stream",
     "text": [
      "\n",
      "***** Dev Set Performance ******\n",
      "f1\n"
     ]
    },
    {
     "data": {
      "image/png": "[encoded data removed]",
      "text/plain": [
       "<Figure size 432x288 with 1 Axes>"
      ]
     },
     "metadata": {
      "needs_background": "light"
     },
     "output_type": "display_data"
    }
   ],
   "source": [
    "get_dev_plot([lr_baseline1, lr_baseline2, lr_baseline3, lr_baseline4], metric = 'f1')"
   ]
  },
  {
   "cell_type": "markdown",
   "metadata": {},
   "source": [
    "# KNN"
   ]
  },
  {
   "cell_type": "markdown",
   "metadata": {},
   "source": [
    "KNN takes a very long time to label a datapoint. "
   ]
  },
  {
   "cell_type": "code",
   "execution_count": 52,
   "metadata": {},
   "outputs": [],
   "source": [
    "from sklearn.neighbors import KNeighborsClassifier"
   ]
  },
  {
   "cell_type": "code",
   "execution_count": 53,
   "metadata": {},
   "outputs": [],
   "source": [
    "def get_report(model, show_more = True, n = 1000):\n",
    "    if show_more == True: \n",
    "        \n",
    "        print('***** Training Set Performance ******')\n",
    "        train_pred = model.predict(X)\n",
    "        train_actual = y\n",
    "\n",
    "        print(classification_report(train_actual,train_pred))\n",
    "\n",
    "        plot_confusion_matrix(model,X,y)\n",
    "        plt.show() \n",
    "    \n",
    "    print('\\n***** Dev Set Performance ******')\n",
    "    dev_pred = model.predict(list(dev.feature_array)[:n])\n",
    "    dev_actual = list(dev.region)[:n]\n",
    "    \n",
    "    print(classification_report(dev_actual,dev_pred))\n",
    "    \n",
    "    if show_more == True: \n",
    "        plot_confusion_matrix(model,list(dev.feature_array),dev_actual)\n",
    "        plt.show() "
   ]
  },
  {
   "cell_type": "code",
   "execution_count": 54,
   "metadata": {},
   "outputs": [
    {
     "data": {
      "text/plain": [
       "KNeighborsClassifier(n_neighbors=3)"
      ]
     },
     "execution_count": 54,
     "metadata": {},
     "output_type": "execute_result"
    }
   ],
   "source": [
    "X = list(train_upANDdownsampled.feature_array)\n",
    "y = train_upANDdownsampled.region\n",
    "\n",
    "knn_1 = KNeighborsClassifier(n_neighbors=3)\n",
    "knn_1.fit(X, y)"
   ]
  },
  {
   "cell_type": "code",
   "execution_count": 55,
   "metadata": {
    "scrolled": true
   },
   "outputs": [
    {
     "name": "stdout",
     "output_type": "stream",
     "text": [
      "\n",
      "***** Dev Set Performance ******\n",
      "              precision    recall  f1-score   support\n",
      "\n",
      "     MIDWEST       0.16      0.28      0.20       151\n",
      "   NORTHEAST       0.59      0.31      0.41       572\n",
      "       SOUTH       0.18      0.27      0.21       173\n",
      "        WEST       0.10      0.17      0.13       104\n",
      "\n",
      "    accuracy                           0.28      1000\n",
      "   macro avg       0.26      0.26      0.24      1000\n",
      "weighted avg       0.40      0.28      0.31      1000\n",
      "\n"
     ]
    }
   ],
   "source": [
    "get_report(knn_1, show_more = False)"
   ]
  },
  {
   "cell_type": "code",
   "execution_count": 56,
   "metadata": {},
   "outputs": [
    {
     "data": {
      "text/plain": [
       "KNeighborsClassifier()"
      ]
     },
     "execution_count": 56,
     "metadata": {},
     "output_type": "execute_result"
    }
   ],
   "source": [
    "X = list(train_upANDdownsampled.feature_array)\n",
    "y = train_upANDdownsampled.region\n",
    "\n",
    "knn_2 = KNeighborsClassifier(n_neighbors=5)\n",
    "knn_2.fit(X, y)"
   ]
  },
  {
   "cell_type": "code",
   "execution_count": 57,
   "metadata": {},
   "outputs": [
    {
     "name": "stdout",
     "output_type": "stream",
     "text": [
      "\n",
      "***** Dev Set Performance ******\n",
      "              precision    recall  f1-score   support\n",
      "\n",
      "     MIDWEST       0.16      0.32      0.21       151\n",
      "   NORTHEAST       0.61      0.28      0.38       572\n",
      "       SOUTH       0.18      0.24      0.21       173\n",
      "        WEST       0.09      0.16      0.12       104\n",
      "\n",
      "    accuracy                           0.27      1000\n",
      "   macro avg       0.26      0.25      0.23      1000\n",
      "weighted avg       0.41      0.27      0.30      1000\n",
      "\n"
     ]
    }
   ],
   "source": [
    "get_report(knn_2, show_more = False)"
   ]
  },
  {
   "cell_type": "code",
   "execution_count": 265,
   "metadata": {},
   "outputs": [
    {
     "data": {
      "text/plain": [
       "KNeighborsClassifier(n_neighbors=10)"
      ]
     },
     "execution_count": 265,
     "metadata": {},
     "output_type": "execute_result"
    }
   ],
   "source": [
    "X = list(train_upANDdownsampled.feature_array)\n",
    "y = train_upANDdownsampled.region\n",
    "\n",
    "knn_3 = KNeighborsClassifier(n_neighbors=10)\n",
    "knn_3.fit(X, y)"
   ]
  },
  {
   "cell_type": "code",
   "execution_count": 266,
   "metadata": {
    "scrolled": true
   },
   "outputs": [
    {
     "name": "stdout",
     "output_type": "stream",
     "text": [
      "\n",
      "***** Dev Set Performance ******\n",
      "              precision    recall  f1-score   support\n",
      "\n",
      "     MIDWEST       0.15      0.34      0.21       151\n",
      "   NORTHEAST       0.61      0.24      0.34       572\n",
      "       SOUTH       0.16      0.19      0.18       173\n",
      "        WEST       0.09      0.21      0.13       104\n",
      "\n",
      "    accuracy                           0.24      1000\n",
      "   macro avg       0.25      0.25      0.22      1000\n",
      "weighted avg       0.41      0.24      0.27      1000\n",
      "\n"
     ]
    }
   ],
   "source": [
    "get_report(knn_3, show_more = False)"
   ]
  },
  {
   "cell_type": "markdown",
   "metadata": {},
   "source": [
    "# Random Forest"
   ]
  },
  {
   "cell_type": "code",
   "execution_count": 267,
   "metadata": {},
   "outputs": [],
   "source": [
    "def get_report(model):\n",
    "    print('***** Training Set Performance ******')\n",
    "    train_pred = model.predict(X)\n",
    "    train_actual = y\n",
    "    \n",
    "    print(classification_report(train_actual,train_pred))\n",
    "    \n",
    "    plot_confusion_matrix(model,X,y)\n",
    "    plt.show() \n",
    "    \n",
    "    print('\\n***** Dev Set Performance ******')\n",
    "    dev_pred = model.predict(list(dev.feature_array))\n",
    "    dev_actual = dev.region\n",
    "    \n",
    "    print(classification_report(dev_actual,dev_pred))\n",
    "    \n",
    "    plot_confusion_matrix(model,list(dev.feature_array),dev_actual)\n",
    "    plt.show() "
   ]
  },
  {
   "cell_type": "code",
   "execution_count": 268,
   "metadata": {},
   "outputs": [],
   "source": [
    "from sklearn.ensemble import RandomForestClassifier"
   ]
  },
  {
   "cell_type": "code",
   "execution_count": 269,
   "metadata": {
    "scrolled": false
   },
   "outputs": [
    {
     "name": "stdout",
     "output_type": "stream",
     "text": [
      "***** Training Set Performance ******\n",
      "              precision    recall  f1-score   support\n",
      "\n",
      "     MIDWEST       0.95      0.94      0.94     28891\n",
      "   NORTHEAST       0.95      0.92      0.94     30762\n",
      "       SOUTH       0.97      0.91      0.94     29238\n",
      "        WEST       0.88      0.97      0.92     31109\n",
      "\n",
      "    accuracy                           0.94    120000\n",
      "   macro avg       0.94      0.94      0.94    120000\n",
      "weighted avg       0.94      0.94      0.94    120000\n",
      "\n"
     ]
    },
    {
     "data": {
      "image/png": "[encoded data removed]",
      "text/plain": [
       "<Figure size 432x288 with 2 Axes>"
      ]
     },
     "metadata": {
      "needs_background": "light"
     },
     "output_type": "display_data"
    },
    {
     "name": "stdout",
     "output_type": "stream",
     "text": [
      "\n",
      "***** Dev Set Performance ******\n",
      "              precision    recall  f1-score   support\n",
      "\n",
      "     MIDWEST       0.15      0.04      0.07      1484\n",
      "   NORTHEAST       0.44      0.54      0.49      4295\n",
      "       SOUTH       0.41      0.46      0.43      4266\n",
      "        WEST       0.15      0.10      0.12      1430\n",
      "\n",
      "    accuracy                           0.39     11475\n",
      "   macro avg       0.29      0.29      0.28     11475\n",
      "weighted avg       0.36      0.39      0.37     11475\n",
      "\n"
     ]
    },
    {
     "data": {
      "image/png": "[encoded data removed]",
      "text/plain": [
       "<Figure size 432x288 with 2 Axes>"
      ]
     },
     "metadata": {
      "needs_background": "light"
     },
     "output_type": "display_data"
    }
   ],
   "source": [
    "X = list(train_upANDdownsampled.feature_array)\n",
    "y = train_upANDdownsampled.region\n",
    "\n",
    "rfc_1 = RandomForestClassifier()\n",
    "rfc_1.fit(X, y)\n",
    "get_report(rfc_1)"
   ]
  },
  {
   "cell_type": "markdown",
   "metadata": {},
   "source": [
    "The first attempt at a Random Forest is performing almost perfectly on the training set, but not so well on the test set. This means that it is overfitting to the training data, or starting to memorize it as opposed to learn generalized rules about it. \n",
    "\n",
    "So here we have some of the regularization parameters of the Random Forest."
   ]
  },
  {
   "cell_type": "code",
   "execution_count": 270,
   "metadata": {
    "scrolled": false
   },
   "outputs": [
    {
     "name": "stdout",
     "output_type": "stream",
     "text": [
      "***** Training Set Performance ******\n",
      "              precision    recall  f1-score   support\n",
      "\n",
      "     MIDWEST       0.76      0.83      0.79     28891\n",
      "   NORTHEAST       0.79      0.70      0.74     30762\n",
      "       SOUTH       0.76      0.65      0.70     29238\n",
      "        WEST       0.75      0.86      0.80     31109\n",
      "\n",
      "    accuracy                           0.76    120000\n",
      "   macro avg       0.76      0.76      0.76    120000\n",
      "weighted avg       0.76      0.76      0.76    120000\n",
      "\n"
     ]
    },
    {
     "data": {
      "image/png": "[encoded data removed]",
      "text/plain": [
       "<Figure size 432x288 with 2 Axes>"
      ]
     },
     "metadata": {
      "needs_background": "light"
     },
     "output_type": "display_data"
    },
    {
     "name": "stdout",
     "output_type": "stream",
     "text": [
      "\n",
      "***** Dev Set Performance ******\n",
      "              precision    recall  f1-score   support\n",
      "\n",
      "     MIDWEST       0.16      0.22      0.18      1484\n",
      "   NORTHEAST       0.45      0.41      0.43      4295\n",
      "       SOUTH       0.40      0.28      0.33      4266\n",
      "        WEST       0.13      0.23      0.17      1430\n",
      "\n",
      "    accuracy                           0.31     11475\n",
      "   macro avg       0.29      0.29      0.28     11475\n",
      "weighted avg       0.36      0.31      0.33     11475\n",
      "\n"
     ]
    },
    {
     "data": {
      "image/png": "[encoded data removed]",
      "text/plain": [
       "<Figure size 432x288 with 2 Axes>"
      ]
     },
     "metadata": {
      "needs_background": "light"
     },
     "output_type": "display_data"
    }
   ],
   "source": [
    "X = list(train_upANDdownsampled.feature_array)\n",
    "y = train_upANDdownsampled.region\n",
    "\n",
    "rfc_2 = RandomForestClassifier(n_estimators = 10, max_depth = 15, n_jobs = -1)\n",
    "rfc_2.fit(X, y)\n",
    "get_report(rfc_2)"
   ]
  },
  {
   "cell_type": "markdown",
   "metadata": {},
   "source": [
    "It looks like it's still overfitting, maybe we can run a small Grid Search to find the best parameters. "
   ]
  },
  {
   "cell_type": "code",
   "execution_count": 271,
   "metadata": {},
   "outputs": [],
   "source": [
    "from sklearn.model_selection import GridSearchCV\n",
    "\n",
    "X = list(train_upANDdownsampled.feature_array)\n",
    "y = train_upANDdownsampled.region\n",
    "\n",
    "parameters = {'n_estimators': [7, 10, 15],\n",
    "#                'criterion': ['gini','entropy'],\n",
    "               'max_depth': [10, 15, 20, 25],\n",
    "#                'min_samples_split': [2, 5, 10],\n",
    "#                'min_samples_leaf': [1, 2, 4],\n",
    "#                'min_impurity_decrease': [.01,.05,.1],\n",
    "#                'ccp_alpha': [.01,.05,.1]\n",
    "             }"
   ]
  },
  {
   "cell_type": "code",
   "execution_count": 272,
   "metadata": {},
   "outputs": [
    {
     "name": "stdout",
     "output_type": "stream",
     "text": [
      "Fitting 3 folds for each of 12 candidates, totalling 36 fits\n"
     ]
    },
    {
     "data": {
      "text/plain": [
       "GridSearchCV(cv=3, estimator=RandomForestClassifier(), n_jobs=-1,\n",
       "             param_grid={'max_depth': [10, 15, 20, 25],\n",
       "                         'n_estimators': [7, 10, 15]},\n",
       "             scoring='f1_macro', verbose=True)"
      ]
     },
     "execution_count": 272,
     "metadata": {},
     "output_type": "execute_result"
    }
   ],
   "source": [
    "rfc = RandomForestClassifier()\n",
    "rfc_3 = GridSearchCV(rfc, parameters, n_jobs = -1, cv = 3, verbose=True, scoring = 'f1_macro')\n",
    "rfc_3.fit(X,y)"
   ]
  },
  {
   "cell_type": "code",
   "execution_count": 273,
   "metadata": {},
   "outputs": [
    {
     "data": {
      "text/plain": [
       "{'max_depth': 25, 'n_estimators': 15}"
      ]
     },
     "execution_count": 273,
     "metadata": {},
     "output_type": "execute_result"
    }
   ],
   "source": [
    "rfc_3.best_params_"
   ]
  },
  {
   "cell_type": "code",
   "execution_count": 274,
   "metadata": {
    "scrolled": false
   },
   "outputs": [
    {
     "name": "stdout",
     "output_type": "stream",
     "text": [
      "***** Training Set Performance ******\n",
      "              precision    recall  f1-score   support\n",
      "\n",
      "     MIDWEST       0.95      0.94      0.94     28891\n",
      "   NORTHEAST       0.95      0.92      0.93     30762\n",
      "       SOUTH       0.96      0.91      0.94     29238\n",
      "        WEST       0.88      0.97      0.92     31109\n",
      "\n",
      "    accuracy                           0.93    120000\n",
      "   macro avg       0.94      0.93      0.93    120000\n",
      "weighted avg       0.93      0.93      0.93    120000\n",
      "\n"
     ]
    },
    {
     "data": {
      "image/png": "[encoded data removed]",
      "text/plain": [
       "<Figure size 432x288 with 2 Axes>"
      ]
     },
     "metadata": {
      "needs_background": "light"
     },
     "output_type": "display_data"
    },
    {
     "name": "stdout",
     "output_type": "stream",
     "text": [
      "\n",
      "***** Dev Set Performance ******\n",
      "              precision    recall  f1-score   support\n",
      "\n",
      "     MIDWEST       0.15      0.12      0.13      1484\n",
      "   NORTHEAST       0.42      0.45      0.43      4295\n",
      "       SOUTH       0.39      0.37      0.38      4266\n",
      "        WEST       0.13      0.16      0.14      1430\n",
      "\n",
      "    accuracy                           0.34     11475\n",
      "   macro avg       0.27      0.27      0.27     11475\n",
      "weighted avg       0.34      0.34      0.34     11475\n",
      "\n"
     ]
    },
    {
     "data": {
      "image/png": "[encoded data removed]",
      "text/plain": [
       "<Figure size 432x288 with 2 Axes>"
      ]
     },
     "metadata": {
      "needs_background": "light"
     },
     "output_type": "display_data"
    }
   ],
   "source": [
    "get_report(rfc_3)"
   ]
  },
  {
   "cell_type": "markdown",
   "metadata": {},
   "source": [
    "The grid search took too long to run, so we can minimize the parameters and it ended up overfitting as well. I'm going to play around with some additional combinations myself."
   ]
  },
  {
   "cell_type": "code",
   "execution_count": 275,
   "metadata": {},
   "outputs": [
    {
     "name": "stdout",
     "output_type": "stream",
     "text": [
      "***** Training Set Performance ******\n",
      "              precision    recall  f1-score   support\n",
      "\n",
      "     MIDWEST       0.53      0.63      0.57     28891\n",
      "   NORTHEAST       0.50      0.58      0.54     30762\n",
      "       SOUTH       0.57      0.28      0.37     29238\n",
      "        WEST       0.58      0.66      0.62     31109\n",
      "\n",
      "    accuracy                           0.54    120000\n",
      "   macro avg       0.54      0.54      0.53    120000\n",
      "weighted avg       0.54      0.54      0.53    120000\n",
      "\n"
     ]
    },
    {
     "data": {
      "image/png": "[encoded data removed]",
      "text/plain": [
       "<Figure size 432x288 with 2 Axes>"
      ]
     },
     "metadata": {
      "needs_background": "light"
     },
     "output_type": "display_data"
    },
    {
     "name": "stdout",
     "output_type": "stream",
     "text": [
      "\n",
      "***** Dev Set Performance ******\n",
      "              precision    recall  f1-score   support\n",
      "\n",
      "     MIDWEST       0.17      0.30      0.22      1484\n",
      "   NORTHEAST       0.46      0.47      0.47      4295\n",
      "       SOUTH       0.41      0.15      0.22      4266\n",
      "        WEST       0.13      0.26      0.18      1430\n",
      "\n",
      "    accuracy                           0.31     11475\n",
      "   macro avg       0.29      0.30      0.27     11475\n",
      "weighted avg       0.36      0.31      0.31     11475\n",
      "\n"
     ]
    },
    {
     "data": {
      "image/png": "[encoded data removed]",
      "text/plain": [
       "<Figure size 432x288 with 2 Axes>"
      ]
     },
     "metadata": {
      "needs_background": "light"
     },
     "output_type": "display_data"
    }
   ],
   "source": [
    "X = list(train_upANDdownsampled.feature_array)\n",
    "y = train_upANDdownsampled.region\n",
    "\n",
    "rfc_4 = RandomForestClassifier(n_estimators = 20, max_depth = 10, n_jobs = -1)\n",
    "rfc_4.fit(X, y)\n",
    "get_report(rfc_4)"
   ]
  },
  {
   "cell_type": "code",
   "execution_count": 276,
   "metadata": {
    "scrolled": false
   },
   "outputs": [
    {
     "name": "stdout",
     "output_type": "stream",
     "text": [
      "***** Training Set Performance ******\n",
      "              precision    recall  f1-score   support\n",
      "\n",
      "     MIDWEST       0.72      0.84      0.77     28891\n",
      "   NORTHEAST       0.69      0.69      0.69     30762\n",
      "       SOUTH       0.80      0.57      0.66     29238\n",
      "        WEST       0.76      0.85      0.80     31109\n",
      "\n",
      "    accuracy                           0.74    120000\n",
      "   macro avg       0.74      0.74      0.73    120000\n",
      "weighted avg       0.74      0.74      0.73    120000\n",
      "\n"
     ]
    },
    {
     "data": {
      "image/png": "[encoded data removed]",
      "text/plain": [
       "<Figure size 432x288 with 2 Axes>"
      ]
     },
     "metadata": {
      "needs_background": "light"
     },
     "output_type": "display_data"
    },
    {
     "name": "stdout",
     "output_type": "stream",
     "text": [
      "\n",
      "***** Dev Set Performance ******\n",
      "              precision    recall  f1-score   support\n",
      "\n",
      "     MIDWEST       0.17      0.26      0.21      1484\n",
      "   NORTHEAST       0.46      0.52      0.49      4295\n",
      "       SOUTH       0.40      0.20      0.27      4266\n",
      "        WEST       0.13      0.22      0.16      1430\n",
      "\n",
      "    accuracy                           0.33     11475\n",
      "   macro avg       0.29      0.30      0.28     11475\n",
      "weighted avg       0.36      0.33      0.33     11475\n",
      "\n"
     ]
    },
    {
     "data": {
      "image/png": "[encoded data removed]",
      "text/plain": [
       "<Figure size 432x288 with 2 Axes>"
      ]
     },
     "metadata": {
      "needs_background": "light"
     },
     "output_type": "display_data"
    }
   ],
   "source": [
    "X = list(train_upANDdownsampled.feature_array)\n",
    "y = train_upANDdownsampled.region\n",
    "\n",
    "rfc_5 = RandomForestClassifier( max_depth = 12, min_samples_leaf = 2, min_samples_split = 5, n_jobs = -1)\n",
    "rfc_5.fit(X, y)\n",
    "get_report(rfc_5)"
   ]
  },
  {
   "cell_type": "markdown",
   "metadata": {},
   "source": [
    "It seems the Midwest and West regions are getting confused with the NorthEast and South still. So we could do upsampling to see what happens."
   ]
  },
  {
   "cell_type": "code",
   "execution_count": 277,
   "metadata": {},
   "outputs": [
    {
     "data": {
      "image/png": "[encoded data removed]",
      "text/plain": [
       "<Figure size 432x288 with 1 Axes>"
      ]
     },
     "metadata": {
      "needs_background": "light"
     },
     "output_type": "display_data"
    }
   ],
   "source": [
    "train_min = train_preprocessed[train_preprocessed.region.isin(['MIDWEST','WEST'])]\n",
    "\n",
    "train_min_upsampled = resample(train_min, replace=True, n_samples=100000, random_state=1)\n",
    "train_upsampled = pd.concat([train_maj, train_min_upsampled])\n",
    " \n",
    "sns.histplot(train_upsampled.region).set_title('Class Distribution with Upsampling');"
   ]
  },
  {
   "cell_type": "code",
   "execution_count": 278,
   "metadata": {},
   "outputs": [
    {
     "name": "stdout",
     "output_type": "stream",
     "text": [
      "***** Training Set Performance ******\n",
      "              precision    recall  f1-score   support\n",
      "\n",
      "     MIDWEST       0.68      0.86      0.76     48322\n",
      "   NORTHEAST       0.65      0.66      0.66     50901\n",
      "       SOUTH       0.78      0.48      0.59     48590\n",
      "        WEST       0.76      0.85      0.81     51678\n",
      "\n",
      "    accuracy                           0.71    199491\n",
      "   macro avg       0.72      0.71      0.70    199491\n",
      "weighted avg       0.72      0.71      0.70    199491\n",
      "\n"
     ]
    },
    {
     "data": {
      "image/png": "[encoded data removed]",
      "text/plain": [
       "<Figure size 432x288 with 2 Axes>"
      ]
     },
     "metadata": {
      "needs_background": "light"
     },
     "output_type": "display_data"
    },
    {
     "name": "stdout",
     "output_type": "stream",
     "text": [
      "\n",
      "***** Dev Set Performance ******\n",
      "              precision    recall  f1-score   support\n",
      "\n",
      "     MIDWEST       0.18      0.28      0.22      1484\n",
      "   NORTHEAST       0.46      0.53      0.49      4295\n",
      "       SOUTH       0.41      0.20      0.26      4266\n",
      "        WEST       0.12      0.18      0.15      1430\n",
      "\n",
      "    accuracy                           0.33     11475\n",
      "   macro avg       0.29      0.30      0.28     11475\n",
      "weighted avg       0.36      0.33      0.33     11475\n",
      "\n"
     ]
    },
    {
     "data": {
      "image/png": "[encoded data removed]",
      "text/plain": [
       "<Figure size 432x288 with 2 Axes>"
      ]
     },
     "metadata": {
      "needs_background": "light"
     },
     "output_type": "display_data"
    }
   ],
   "source": [
    "X = list(train_upsampled.feature_array)\n",
    "y = train_upsampled.region\n",
    "\n",
    "rfc_6 = RandomForestClassifier( max_depth = 12, n_jobs = -1)\n",
    "rfc_6.fit(X, y)\n",
    "get_report(rfc_6)"
   ]
  },
  {
   "cell_type": "markdown",
   "metadata": {},
   "source": [
    "The Northeastern class also seems to dominate in the predictions.So we will have to downsample those slightly."
   ]
  },
  {
   "cell_type": "code",
   "execution_count": 58,
   "metadata": {},
   "outputs": [
    {
     "data": {
      "image/png": "[encoded data removed]",
      "text/plain": [
       "<Figure size 432x288 with 1 Axes>"
      ]
     },
     "metadata": {
      "needs_background": "light"
     },
     "output_type": "display_data"
    }
   ],
   "source": [
    "train_south = train_preprocessed[train_preprocessed.region.isin(['SOUTH'])]\n",
    "train_north = train_preprocessed[train_preprocessed.region.isin(['NORTHEAST'])]\n",
    "\n",
    "train_maj_downsampled = resample(train_north, replace=False, n_samples=35000, random_state = 1)\n",
    "train_upANDdownsampled = pd.concat([train_maj_downsampled, train_min_upsampled, train_south])\n",
    "train_upANDdownsampled = train_upANDdownsampled.sample(frac=1)\n",
    "\n",
    "sns.histplot(train_upANDdownsampled.region).set_title('Class Distribution with Upsampling and Downsampling');"
   ]
  },
  {
   "cell_type": "code",
   "execution_count": 280,
   "metadata": {},
   "outputs": [
    {
     "name": "stdout",
     "output_type": "stream",
     "text": [
      "***** Training Set Performance ******\n",
      "              precision    recall  f1-score   support\n",
      "\n",
      "     MIDWEST       0.70      0.90      0.79     48322\n",
      "   NORTHEAST       0.89      0.33      0.48     35000\n",
      "       SOUTH       0.68      0.69      0.69     48590\n",
      "        WEST       0.77      0.89      0.82     51678\n",
      "\n",
      "    accuracy                           0.73    183590\n",
      "   macro avg       0.76      0.70      0.69    183590\n",
      "weighted avg       0.75      0.73      0.71    183590\n",
      "\n"
     ]
    },
    {
     "data": {
      "image/png": "[encoded data removed]",
      "text/plain": [
       "<Figure size 432x288 with 2 Axes>"
      ]
     },
     "metadata": {
      "needs_background": "light"
     },
     "output_type": "display_data"
    },
    {
     "name": "stdout",
     "output_type": "stream",
     "text": [
      "\n",
      "***** Dev Set Performance ******\n",
      "              precision    recall  f1-score   support\n",
      "\n",
      "     MIDWEST       0.18      0.31      0.22      1484\n",
      "   NORTHEAST       0.57      0.14      0.23      4295\n",
      "       SOUTH       0.38      0.44      0.41      4266\n",
      "        WEST       0.13      0.26      0.17      1430\n",
      "\n",
      "    accuracy                           0.29     11475\n",
      "   macro avg       0.31      0.29      0.26     11475\n",
      "weighted avg       0.39      0.29      0.29     11475\n",
      "\n"
     ]
    },
    {
     "data": {
      "image/png": "[encoded data removed]",
      "text/plain": [
       "<Figure size 432x288 with 2 Axes>"
      ]
     },
     "metadata": {
      "needs_background": "light"
     },
     "output_type": "display_data"
    }
   ],
   "source": [
    "X = list(train_upANDdownsampled.feature_array)\n",
    "y = train_upANDdownsampled.region\n",
    "\n",
    "rfc_7 = RandomForestClassifier(max_depth = 12, n_jobs = -1)\n",
    "rfc_7.fit(X, y)\n",
    "get_report(rfc_7)"
   ]
  },
  {
   "cell_type": "markdown",
   "metadata": {},
   "source": [
    "The difference between the training metrics and the developer metrics are very different, In that case we may need to make some additional hyperparameters to make our forest work best. So we can set oob_score = True such that we check the generalization score of the model after fitting. And then we set max_features = None so that it uses all of the features in it's trees training when looking for where to split. This is done because each feature in an averaged word vector and has a lot of latent information in it such that it is a bit undefinable and that ultimately we don't want the model overlooking."
   ]
  },
  {
   "cell_type": "code",
   "execution_count": 281,
   "metadata": {
    "scrolled": true
   },
   "outputs": [
    {
     "name": "stderr",
     "output_type": "stream",
     "text": [
      "[Parallel(n_jobs=-1)]: Using backend ThreadingBackend with 12 concurrent workers.\n"
     ]
    },
    {
     "name": "stdout",
     "output_type": "stream",
     "text": [
      "building tree 1 of 100\n",
      "building tree 2 of 100\n",
      "building tree 3 of 100\n",
      "building tree 4 of 100building tree 5 of 100\n",
      "building tree 6 of 100\n",
      "\n",
      "building tree 7 of 100building tree 8 of 100\n",
      "\n",
      "building tree 9 of 100\n",
      "building tree 10 of 100building tree 11 of 100\n",
      "building tree 12 of 100\n",
      "\n"
     ]
    },
    {
     "name": "stderr",
     "output_type": "stream",
     "text": [
      "[Parallel(n_jobs=-1)]: Done   1 tasks      | elapsed:  1.4min\n"
     ]
    },
    {
     "name": "stdout",
     "output_type": "stream",
     "text": [
      "building tree 13 of 100\n",
      "building tree 14 of 100\n",
      "building tree 15 of 100\n",
      "building tree 16 of 100\n",
      "building tree 17 of 100\n",
      "building tree 18 of 100\n",
      "building tree 19 of 100\n",
      "building tree 20 of 100\n"
     ]
    },
    {
     "name": "stderr",
     "output_type": "stream",
     "text": [
      "[Parallel(n_jobs=-1)]: Done   8 tasks      | elapsed:  1.4min\n"
     ]
    },
    {
     "name": "stdout",
     "output_type": "stream",
     "text": [
      "building tree 21 of 100\n",
      "building tree 22 of 100\n",
      "building tree 23 of 100\n",
      "building tree 24 of 100\n",
      "building tree 25 of 100\n",
      "building tree 26 of 100\n",
      "building tree 27 of 100\n",
      "building tree 28 of 100\n",
      "building tree 29 of 100\n"
     ]
    },
    {
     "name": "stderr",
     "output_type": "stream",
     "text": [
      "[Parallel(n_jobs=-1)]: Done  17 tasks      | elapsed:  2.7min\n"
     ]
    },
    {
     "name": "stdout",
     "output_type": "stream",
     "text": [
      "building tree 30 of 100\n",
      "building tree 31 of 100\n",
      "building tree 32 of 100\n",
      "building tree 33 of 100\n",
      "building tree 34 of 100\n",
      "building tree 35 of 100\n",
      "building tree 36 of 100\n",
      "building tree 37 of 100\n"
     ]
    },
    {
     "name": "stderr",
     "output_type": "stream",
     "text": [
      "[Parallel(n_jobs=-1)]: Done  26 tasks      | elapsed:  4.0min\n"
     ]
    },
    {
     "name": "stdout",
     "output_type": "stream",
     "text": [
      "building tree 38 of 100\n",
      "building tree 39 of 100\n",
      "building tree 40 of 100\n",
      "building tree 41 of 100\n",
      "building tree 42 of 100\n",
      "building tree 43 of 100\n",
      "building tree 44 of 100\n",
      "building tree 45 of 100\n",
      "building tree 46 of 100\n",
      "building tree 47 of 100\n",
      "building tree 48 of 100\n"
     ]
    },
    {
     "name": "stderr",
     "output_type": "stream",
     "text": [
      "[Parallel(n_jobs=-1)]: Done  37 tasks      | elapsed:  5.3min\n"
     ]
    },
    {
     "name": "stdout",
     "output_type": "stream",
     "text": [
      "building tree 49 of 100\n",
      "building tree 50 of 100\n",
      "building tree 51 of 100\n",
      "building tree 52 of 100\n",
      "building tree 53 of 100\n",
      "building tree 54 of 100\n",
      "building tree 55 of 100\n",
      "building tree 56 of 100\n",
      "building tree 57 of 100\n",
      "building tree 58 of 100\n",
      "building tree 59 of 100\n"
     ]
    },
    {
     "name": "stderr",
     "output_type": "stream",
     "text": [
      "[Parallel(n_jobs=-1)]: Done  48 tasks      | elapsed:  5.4min\n"
     ]
    },
    {
     "name": "stdout",
     "output_type": "stream",
     "text": [
      "building tree 60 of 100\n",
      "building tree 61 of 100\n",
      "building tree 62 of 100\n",
      "building tree 63 of 100\n",
      "building tree 64 of 100\n",
      "building tree 65 of 100\n",
      "building tree 66 of 100\n",
      "building tree 67 of 100\n",
      "building tree 68 of 100\n",
      "building tree 69 of 100\n",
      "building tree 70 of 100\n",
      "building tree 71 of 100\n",
      "building tree 72 of 100\n"
     ]
    },
    {
     "name": "stderr",
     "output_type": "stream",
     "text": [
      "[Parallel(n_jobs=-1)]: Done  61 tasks      | elapsed:  7.9min\n"
     ]
    },
    {
     "name": "stdout",
     "output_type": "stream",
     "text": [
      "building tree 73 of 100\n",
      "building tree 74 of 100\n",
      "building tree 75 of 100\n",
      "building tree 76 of 100\n",
      "building tree 77 of 100\n",
      "building tree 78 of 100\n",
      "building tree 79 of 100\n",
      "building tree 80 of 100\n",
      "building tree 81 of 100\n",
      "building tree 82 of 100\n",
      "building tree 83 of 100\n",
      "building tree 84 of 100\n",
      "building tree 85 of 100\n"
     ]
    },
    {
     "name": "stderr",
     "output_type": "stream",
     "text": [
      "[Parallel(n_jobs=-1)]: Done  74 tasks      | elapsed:  9.3min\n"
     ]
    },
    {
     "name": "stdout",
     "output_type": "stream",
     "text": [
      "building tree 86 of 100\n",
      "building tree 87 of 100\n",
      "building tree 88 of 100\n",
      "building tree 89 of 100\n",
      "building tree 90 of 100\n",
      "building tree 91 of 100\n",
      "building tree 92 of 100\n",
      "building tree 93 of 100\n",
      "building tree 94 of 100\n",
      "building tree 95 of 100\n",
      "building tree 96 of 100\n",
      "building tree 97 of 100\n",
      "building tree 98 of 100\n",
      "building tree 99 of 100\n",
      "building tree 100 of 100\n"
     ]
    },
    {
     "name": "stderr",
     "output_type": "stream",
     "text": [
      "[Parallel(n_jobs=-1)]: Done  88 out of 100 | elapsed: 10.6min remaining:  1.5min\n",
      "[Parallel(n_jobs=-1)]: Done 100 out of 100 | elapsed: 11.4min finished\n"
     ]
    },
    {
     "name": "stdout",
     "output_type": "stream",
     "text": [
      "***** Training Set Performance ******\n"
     ]
    },
    {
     "name": "stderr",
     "output_type": "stream",
     "text": [
      "[Parallel(n_jobs=12)]: Using backend ThreadingBackend with 12 concurrent workers.\n",
      "[Parallel(n_jobs=12)]: Done   1 tasks      | elapsed:    0.1s\n",
      "[Parallel(n_jobs=12)]: Done   8 tasks      | elapsed:    0.1s\n",
      "[Parallel(n_jobs=12)]: Done  17 tasks      | elapsed:    0.2s\n",
      "[Parallel(n_jobs=12)]: Done  26 tasks      | elapsed:    0.3s\n",
      "[Parallel(n_jobs=12)]: Done  37 tasks      | elapsed:    0.4s\n",
      "[Parallel(n_jobs=12)]: Done  48 tasks      | elapsed:    0.5s\n",
      "[Parallel(n_jobs=12)]: Done  61 tasks      | elapsed:    0.6s\n",
      "[Parallel(n_jobs=12)]: Done  74 tasks      | elapsed:    0.8s\n",
      "[Parallel(n_jobs=12)]: Done  88 out of 100 | elapsed:    0.9s remaining:    0.1s\n",
      "[Parallel(n_jobs=12)]: Done 100 out of 100 | elapsed:    1.0s finished\n"
     ]
    },
    {
     "name": "stdout",
     "output_type": "stream",
     "text": [
      "              precision    recall  f1-score   support\n",
      "\n",
      "     MIDWEST       0.76      0.91      0.83     48322\n",
      "   NORTHEAST       0.86      0.41      0.55     35000\n",
      "       SOUTH       0.72      0.76      0.74     48590\n",
      "        WEST       0.81      0.91      0.86     51678\n",
      "\n",
      "    accuracy                           0.77    183590\n",
      "   macro avg       0.79      0.75      0.74    183590\n",
      "weighted avg       0.78      0.77      0.76    183590\n",
      "\n"
     ]
    },
    {
     "name": "stderr",
     "output_type": "stream",
     "text": [
      "[Parallel(n_jobs=12)]: Using backend ThreadingBackend with 12 concurrent workers.\n",
      "[Parallel(n_jobs=12)]: Done   1 tasks      | elapsed:    0.1s\n",
      "[Parallel(n_jobs=12)]: Done   8 tasks      | elapsed:    0.1s\n",
      "[Parallel(n_jobs=12)]: Done  17 tasks      | elapsed:    0.2s\n",
      "[Parallel(n_jobs=12)]: Done  26 tasks      | elapsed:    0.3s\n",
      "[Parallel(n_jobs=12)]: Done  37 tasks      | elapsed:    0.4s\n",
      "[Parallel(n_jobs=12)]: Done  48 tasks      | elapsed:    0.5s\n",
      "[Parallel(n_jobs=12)]: Done  61 tasks      | elapsed:    0.6s\n",
      "[Parallel(n_jobs=12)]: Done  74 tasks      | elapsed:    0.8s\n",
      "[Parallel(n_jobs=12)]: Done  88 out of 100 | elapsed:    0.9s remaining:    0.1s\n",
      "[Parallel(n_jobs=12)]: Done 100 out of 100 | elapsed:    1.0s finished\n"
     ]
    },
    {
     "data": {
      "image/png": "[encoded data removed]",
      "text/plain": [
       "<Figure size 432x288 with 2 Axes>"
      ]
     },
     "metadata": {
      "needs_background": "light"
     },
     "output_type": "display_data"
    },
    {
     "name": "stdout",
     "output_type": "stream",
     "text": [
      "\n",
      "***** Dev Set Performance ******\n"
     ]
    },
    {
     "name": "stderr",
     "output_type": "stream",
     "text": [
      "[Parallel(n_jobs=12)]: Using backend ThreadingBackend with 12 concurrent workers.\n",
      "[Parallel(n_jobs=12)]: Done   1 tasks      | elapsed:    0.0s\n",
      "[Parallel(n_jobs=12)]: Done   8 tasks      | elapsed:    0.0s\n",
      "[Parallel(n_jobs=12)]: Done  17 tasks      | elapsed:    0.0s\n",
      "[Parallel(n_jobs=12)]: Done  26 tasks      | elapsed:    0.0s\n",
      "[Parallel(n_jobs=12)]: Done  37 tasks      | elapsed:    0.0s\n",
      "[Parallel(n_jobs=12)]: Done  48 tasks      | elapsed:    0.0s\n",
      "[Parallel(n_jobs=12)]: Done  61 tasks      | elapsed:    0.0s\n",
      "[Parallel(n_jobs=12)]: Done  74 tasks      | elapsed:    0.1s\n",
      "[Parallel(n_jobs=12)]: Done  88 out of 100 | elapsed:    0.1s remaining:    0.0s\n",
      "[Parallel(n_jobs=12)]: Done 100 out of 100 | elapsed:    0.1s finished\n"
     ]
    },
    {
     "name": "stdout",
     "output_type": "stream",
     "text": [
      "              precision    recall  f1-score   support\n",
      "\n",
      "     MIDWEST       0.17      0.24      0.20      1484\n",
      "   NORTHEAST       0.55      0.20      0.30      4295\n",
      "       SOUTH       0.38      0.47      0.42      4266\n",
      "        WEST       0.14      0.23      0.17      1430\n",
      "\n",
      "    accuracy                           0.31     11475\n",
      "   macro avg       0.31      0.29      0.27     11475\n",
      "weighted avg       0.39      0.31      0.31     11475\n",
      "\n"
     ]
    },
    {
     "name": "stderr",
     "output_type": "stream",
     "text": [
      "[Parallel(n_jobs=12)]: Using backend ThreadingBackend with 12 concurrent workers.\n",
      "[Parallel(n_jobs=12)]: Done   1 tasks      | elapsed:    0.0s\n",
      "[Parallel(n_jobs=12)]: Done   8 tasks      | elapsed:    0.0s\n",
      "[Parallel(n_jobs=12)]: Done  17 tasks      | elapsed:    0.0s\n",
      "[Parallel(n_jobs=12)]: Done  26 tasks      | elapsed:    0.0s\n",
      "[Parallel(n_jobs=12)]: Done  37 tasks      | elapsed:    0.0s\n",
      "[Parallel(n_jobs=12)]: Done  48 tasks      | elapsed:    0.0s\n",
      "[Parallel(n_jobs=12)]: Done  61 tasks      | elapsed:    0.0s\n",
      "[Parallel(n_jobs=12)]: Done  74 tasks      | elapsed:    0.0s\n",
      "[Parallel(n_jobs=12)]: Done  88 out of 100 | elapsed:    0.1s remaining:    0.0s\n",
      "[Parallel(n_jobs=12)]: Done 100 out of 100 | elapsed:    0.1s finished\n"
     ]
    },
    {
     "data": {
      "image/png": "[encoded data removed]",
      "text/plain": [
       "<Figure size 432x288 with 2 Axes>"
      ]
     },
     "metadata": {
      "needs_background": "light"
     },
     "output_type": "display_data"
    }
   ],
   "source": [
    "X = list(train_upANDdownsampled.feature_array)\n",
    "y = train_upANDdownsampled.region\n",
    "\n",
    "rfc_8 = RandomForestClassifier( max_depth = 12, oob_score=True, max_features = None, \n",
    "                                 n_jobs = -1, verbose = 10)\n",
    "rfc_8.fit(X, y)\n",
    "get_report(rfc_8)"
   ]
  },
  {
   "cell_type": "code",
   "execution_count": 282,
   "metadata": {},
   "outputs": [
    {
     "data": {
      "text/plain": [
       "0.6017865896835339"
      ]
     },
     "execution_count": 282,
     "metadata": {},
     "output_type": "execute_result"
    }
   ],
   "source": [
    "rfc_8.oob_score_"
   ]
  },
  {
   "cell_type": "code",
   "execution_count": 283,
   "metadata": {
    "scrolled": true
   },
   "outputs": [
    {
     "name": "stderr",
     "output_type": "stream",
     "text": [
      "[Parallel(n_jobs=-1)]: Using backend ThreadingBackend with 12 concurrent workers.\n"
     ]
    },
    {
     "name": "stdout",
     "output_type": "stream",
     "text": [
      "building tree 1 of 10\n",
      "building tree 2 of 10\n",
      "building tree 3 of 10\n",
      "building tree 4 of 10\n",
      "building tree 5 of 10\n",
      "building tree 6 of 10building tree 7 of 10\n",
      "building tree 8 of 10\n",
      "\n",
      "building tree 9 of 10\n",
      "building tree 10 of 10\n"
     ]
    },
    {
     "name": "stderr",
     "output_type": "stream",
     "text": [
      "[Parallel(n_jobs=-1)]: Done   5 out of  10 | elapsed:  1.0min remaining:  1.0min\n",
      "[Parallel(n_jobs=-1)]: Done  10 out of  10 | elapsed:  1.1min finished\n"
     ]
    },
    {
     "name": "stdout",
     "output_type": "stream",
     "text": [
      "***** Training Set Performance ******\n"
     ]
    },
    {
     "name": "stderr",
     "output_type": "stream",
     "text": [
      "[Parallel(n_jobs=10)]: Using backend ThreadingBackend with 10 concurrent workers.\n",
      "[Parallel(n_jobs=10)]: Done   3 out of  10 | elapsed:    0.1s remaining:    0.1s\n",
      "[Parallel(n_jobs=10)]: Done  10 out of  10 | elapsed:    0.1s finished\n"
     ]
    },
    {
     "name": "stdout",
     "output_type": "stream",
     "text": [
      "              precision    recall  f1-score   support\n",
      "\n",
      "     MIDWEST       0.54      0.72      0.62     48322\n",
      "   NORTHEAST       0.60      0.24      0.34     35000\n",
      "       SOUTH       0.50      0.40      0.45     48590\n",
      "        WEST       0.57      0.74      0.65     51678\n",
      "\n",
      "    accuracy                           0.55    183590\n",
      "   macro avg       0.55      0.52      0.51    183590\n",
      "weighted avg       0.55      0.55      0.53    183590\n",
      "\n"
     ]
    },
    {
     "name": "stderr",
     "output_type": "stream",
     "text": [
      "[Parallel(n_jobs=10)]: Using backend ThreadingBackend with 10 concurrent workers.\n",
      "[Parallel(n_jobs=10)]: Done   3 out of  10 | elapsed:    0.0s remaining:    0.1s\n",
      "[Parallel(n_jobs=10)]: Done  10 out of  10 | elapsed:    0.1s finished\n"
     ]
    },
    {
     "data": {
      "image/png": "[encoded data removed]",
      "text/plain": [
       "<Figure size 432x288 with 2 Axes>"
      ]
     },
     "metadata": {
      "needs_background": "light"
     },
     "output_type": "display_data"
    },
    {
     "name": "stdout",
     "output_type": "stream",
     "text": [
      "\n",
      "***** Dev Set Performance ******\n"
     ]
    },
    {
     "name": "stderr",
     "output_type": "stream",
     "text": [
      "[Parallel(n_jobs=10)]: Using backend ThreadingBackend with 10 concurrent workers.\n",
      "[Parallel(n_jobs=10)]: Done   3 out of  10 | elapsed:    0.0s remaining:    0.0s\n",
      "[Parallel(n_jobs=10)]: Done  10 out of  10 | elapsed:    0.0s finished\n"
     ]
    },
    {
     "name": "stdout",
     "output_type": "stream",
     "text": [
      "              precision    recall  f1-score   support\n",
      "\n",
      "     MIDWEST       0.16      0.36      0.22      1484\n",
      "   NORTHEAST       0.51      0.15      0.23      4295\n",
      "       SOUTH       0.37      0.29      0.33      4266\n",
      "        WEST       0.13      0.32      0.18      1430\n",
      "\n",
      "    accuracy                           0.25     11475\n",
      "   macro avg       0.29      0.28      0.24     11475\n",
      "weighted avg       0.37      0.25      0.26     11475\n",
      "\n"
     ]
    },
    {
     "name": "stderr",
     "output_type": "stream",
     "text": [
      "[Parallel(n_jobs=10)]: Using backend ThreadingBackend with 10 concurrent workers.\n",
      "[Parallel(n_jobs=10)]: Done   3 out of  10 | elapsed:    0.0s remaining:    0.0s\n",
      "[Parallel(n_jobs=10)]: Done  10 out of  10 | elapsed:    0.0s finished\n"
     ]
    },
    {
     "data": {
      "image/png": "[encoded data removed]",
      "text/plain": [
       "<Figure size 432x288 with 2 Axes>"
      ]
     },
     "metadata": {
      "needs_background": "light"
     },
     "output_type": "display_data"
    }
   ],
   "source": [
    "X = list(train_upANDdownsampled.feature_array)\n",
    "y = train_upANDdownsampled.region\n",
    "\n",
    "rfc_9 = RandomForestClassifier(n_estimators = 10, max_depth = 10, oob_score=True, max_features = None, \n",
    "                              n_jobs = -1, verbose = 2)\n",
    "rfc_9.fit(X, y)\n",
    "get_report(rfc_9)"
   ]
  },
  {
   "cell_type": "code",
   "execution_count": 284,
   "metadata": {
    "scrolled": true
   },
   "outputs": [
    {
     "name": "stderr",
     "output_type": "stream",
     "text": [
      "[Parallel(n_jobs=-1)]: Using backend ThreadingBackend with 12 concurrent workers.\n",
      "[Parallel(n_jobs=-1)]: Done  10 out of  10 | elapsed:  1.7min finished\n"
     ]
    },
    {
     "name": "stdout",
     "output_type": "stream",
     "text": [
      "***** Training Set Performance ******\n"
     ]
    },
    {
     "name": "stderr",
     "output_type": "stream",
     "text": [
      "[Parallel(n_jobs=10)]: Using backend ThreadingBackend with 10 concurrent workers.\n",
      "[Parallel(n_jobs=10)]: Done   2 out of  10 | elapsed:    0.2s remaining:    0.7s\n",
      "[Parallel(n_jobs=10)]: Done  10 out of  10 | elapsed:    0.2s finished\n"
     ]
    },
    {
     "name": "stdout",
     "output_type": "stream",
     "text": [
      "              precision    recall  f1-score   support\n",
      "\n",
      "     MIDWEST       0.95      0.94      0.94     48322\n",
      "   NORTHEAST       0.96      0.89      0.92     35000\n",
      "       SOUTH       0.96      0.91      0.93     48590\n",
      "        WEST       0.88      0.97      0.92     51678\n",
      "\n",
      "    accuracy                           0.93    183590\n",
      "   macro avg       0.94      0.93      0.93    183590\n",
      "weighted avg       0.93      0.93      0.93    183590\n",
      "\n"
     ]
    },
    {
     "name": "stderr",
     "output_type": "stream",
     "text": [
      "[Parallel(n_jobs=10)]: Using backend ThreadingBackend with 10 concurrent workers.\n",
      "[Parallel(n_jobs=10)]: Done   2 out of  10 | elapsed:    0.2s remaining:    0.7s\n",
      "[Parallel(n_jobs=10)]: Done  10 out of  10 | elapsed:    0.2s finished\n"
     ]
    },
    {
     "data": {
      "image/png": "[encoded data removed]",
      "text/plain": [
       "<Figure size 432x288 with 2 Axes>"
      ]
     },
     "metadata": {
      "needs_background": "light"
     },
     "output_type": "display_data"
    },
    {
     "name": "stdout",
     "output_type": "stream",
     "text": [
      "\n",
      "***** Dev Set Performance ******\n"
     ]
    },
    {
     "name": "stderr",
     "output_type": "stream",
     "text": [
      "[Parallel(n_jobs=10)]: Using backend ThreadingBackend with 10 concurrent workers.\n",
      "[Parallel(n_jobs=10)]: Done   2 out of  10 | elapsed:    0.0s remaining:    0.0s\n",
      "[Parallel(n_jobs=10)]: Done  10 out of  10 | elapsed:    0.0s finished\n"
     ]
    },
    {
     "name": "stdout",
     "output_type": "stream",
     "text": [
      "              precision    recall  f1-score   support\n",
      "\n",
      "     MIDWEST       0.13      0.13      0.13      1484\n",
      "   NORTHEAST       0.44      0.35      0.39      4295\n",
      "       SOUTH       0.40      0.48      0.43      4266\n",
      "        WEST       0.13      0.14      0.14      1430\n",
      "\n",
      "    accuracy                           0.34     11475\n",
      "   macro avg       0.28      0.27      0.27     11475\n",
      "weighted avg       0.34      0.34      0.34     11475\n",
      "\n"
     ]
    },
    {
     "name": "stderr",
     "output_type": "stream",
     "text": [
      "[Parallel(n_jobs=10)]: Using backend ThreadingBackend with 10 concurrent workers.\n",
      "[Parallel(n_jobs=10)]: Done   2 out of  10 | elapsed:    0.0s remaining:    0.0s\n",
      "[Parallel(n_jobs=10)]: Done  10 out of  10 | elapsed:    0.0s finished\n"
     ]
    },
    {
     "data": {
      "image/png": "[encoded data removed]",
      "text/plain": [
       "<Figure size 432x288 with 2 Axes>"
      ]
     },
     "metadata": {
      "needs_background": "light"
     },
     "output_type": "display_data"
    }
   ],
   "source": [
    "X = list(train_upANDdownsampled.feature_array)\n",
    "y = train_upANDdownsampled.region\n",
    "\n",
    "rfc_10 = RandomForestClassifier(n_estimators = 10, oob_score=True, max_features = None, \n",
    "                              n_jobs = -1, verbose = 1)\n",
    "rfc_10.fit(X, y)\n",
    "get_report(rfc_10)"
   ]
  },
  {
   "cell_type": "code",
   "execution_count": 285,
   "metadata": {},
   "outputs": [
    {
     "data": {
      "text/plain": [
       "0.6401710332806798"
      ]
     },
     "execution_count": 285,
     "metadata": {},
     "output_type": "execute_result"
    }
   ],
   "source": [
    "rfc_10.oob_score_"
   ]
  },
  {
   "cell_type": "code",
   "execution_count": 286,
   "metadata": {
    "scrolled": true
   },
   "outputs": [
    {
     "name": "stderr",
     "output_type": "stream",
     "text": [
      "[Parallel(n_jobs=-1)]: Using backend ThreadingBackend with 12 concurrent workers.\n"
     ]
    },
    {
     "name": "stdout",
     "output_type": "stream",
     "text": [
      "building tree 1 of 500\n",
      "building tree 2 of 500\n",
      "building tree 3 of 500\n",
      "building tree 4 of 500\n",
      "building tree 5 of 500\n",
      "building tree 6 of 500building tree 7 of 500\n",
      "\n",
      "building tree 8 of 500building tree 9 of 500\n",
      "building tree 10 of 500building tree 11 of 500\n",
      "building tree 12 of 500\n",
      "\n",
      "\n",
      "building tree 13 of 500\n",
      "building tree 14 of 500\n",
      "building tree 15 of 500\n",
      "building tree 16 of 500\n",
      "building tree 17 of 500building tree 18 of 500\n",
      "\n",
      "building tree 19 of 500\n",
      "building tree 20 of 500\n",
      "building tree 21 of 500\n",
      "building tree 22 of 500\n",
      "building tree 23 of 500\n",
      "building tree 24 of 500\n",
      "building tree 25 of 500\n",
      "building tree 26 of 500\n",
      "building tree 27 of 500\n",
      "building tree 28 of 500\n",
      "building tree 29 of 500\n",
      "building tree 30 of 500\n",
      "building tree 31 of 500\n",
      "building tree 32 of 500\n",
      "building tree 33 of 500\n",
      "building tree 34 of 500\n"
     ]
    },
    {
     "name": "stderr",
     "output_type": "stream",
     "text": [
      "[Parallel(n_jobs=-1)]: Done  17 tasks      | elapsed:   11.3s\n"
     ]
    },
    {
     "name": "stdout",
     "output_type": "stream",
     "text": [
      "building tree 35 of 500\n",
      "building tree 36 of 500\n",
      "building tree 37 of 500\n",
      "building tree 38 of 500\n",
      "building tree 39 of 500\n",
      "building tree 40 of 500\n",
      "building tree 41 of 500\n",
      "building tree 42 of 500\n",
      "building tree 43 of 500\n",
      "building tree 44 of 500\n",
      "building tree 45 of 500\n",
      "building tree 46 of 500\n",
      "building tree 47 of 500\n",
      "building tree 48 of 500\n",
      "building tree 49 of 500\n",
      "building tree 50 of 500\n",
      "building tree 51 of 500\n",
      "building tree 52 of 500\n",
      "building tree 53 of 500\n",
      "building tree 54 of 500\n",
      "building tree 55 of 500\n",
      "building tree 56 of 500\n",
      "building tree 57 of 500\n",
      "building tree 58 of 500\n",
      "building tree 59 of 500\n",
      "building tree 60 of 500\n",
      "building tree 61 of 500\n",
      "building tree 62 of 500\n",
      "building tree 63 of 500\n",
      "building tree 64 of 500\n",
      "building tree 65 of 500\n",
      "building tree 66 of 500\n",
      "building tree 67 of 500\n",
      "building tree 68 of 500\n",
      "building tree 69 of 500\n",
      "building tree 70 of 500\n",
      "building tree 71 of 500\n",
      "building tree 72 of 500\n",
      "building tree 73 of 500\n",
      "building tree 74 of 500\n",
      "building tree 75 of 500\n",
      "building tree 76 of 500\n",
      "building tree 77 of 500\n",
      "building tree 78 of 500\n",
      "building tree 79 of 500\n",
      "building tree 80 of 500\n",
      "building tree 81 of 500\n",
      "building tree 82 of 500\n",
      "building tree 83 of 500\n",
      "building tree 84 of 500\n",
      "building tree 85 of 500\n",
      "building tree 86 of 500\n",
      "building tree 87 of 500\n",
      "building tree 88 of 500\n",
      "building tree 89 of 500\n",
      "building tree 90 of 500\n",
      "building tree 91 of 500\n",
      "building tree 92 of 500\n",
      "building tree 93 of 500\n",
      "building tree 94 of 500\n",
      "building tree 95 of 500\n",
      "building tree 96 of 500\n",
      "building tree 97 of 500\n",
      "building tree 98 of 500\n",
      "building tree 99 of 500\n",
      "building tree 100 of 500\n",
      "building tree 101 of 500\n",
      "building tree 102 of 500\n",
      "building tree 103 of 500\n",
      "building tree 104 of 500\n",
      "building tree 105 of 500\n",
      "building tree 106 of 500\n",
      "building tree 107 of 500\n",
      "building tree 108 of 500\n",
      "building tree 109 of 500\n",
      "building tree 110 of 500\n",
      "building tree 111 of 500\n",
      "building tree 112 of 500\n",
      "building tree 113 of 500\n",
      "building tree 114 of 500\n",
      "building tree 115 of 500\n",
      "building tree 116 of 500\n",
      "building tree 117 of 500\n",
      "building tree 118 of 500\n",
      "building tree 119 of 500\n",
      "building tree 120 of 500\n",
      "building tree 121 of 500\n",
      "building tree 122 of 500\n",
      "building tree 123 of 500\n",
      "building tree 124 of 500\n",
      "building tree 125 of 500\n",
      "building tree 126 of 500\n",
      "building tree 127 of 500\n",
      "building tree 128 of 500\n",
      "building tree 129 of 500\n",
      "building tree 130 of 500\n",
      "building tree 131 of 500\n",
      "building tree 132 of 500\n",
      "building tree 133 of 500\n",
      "building tree 134 of 500\n",
      "building tree 135 of 500\n",
      "building tree 136 of 500\n",
      "building tree 137 of 500\n",
      "building tree 138 of 500\n",
      "building tree 139 of 500\n",
      "building tree 140 of 500\n",
      "building tree 141 of 500\n",
      "building tree 142 of 500\n",
      "building tree 143 of 500\n",
      "building tree 144 of 500\n",
      "building tree 145 of 500\n",
      "building tree 146 of 500\n",
      "building tree 147 of 500\n",
      "building tree 148 of 500\n",
      "building tree 149 of 500\n",
      "building tree 150 of 500\n",
      "building tree 151 of 500\n",
      "building tree 152 of 500\n"
     ]
    },
    {
     "name": "stderr",
     "output_type": "stream",
     "text": [
      "[Parallel(n_jobs=-1)]: Done 138 tasks      | elapsed:  1.1min\n"
     ]
    },
    {
     "name": "stdout",
     "output_type": "stream",
     "text": [
      "building tree 153 of 500\n",
      "building tree 154 of 500\n",
      "building tree 155 of 500\n",
      "building tree 156 of 500\n",
      "building tree 157 of 500\n",
      "building tree 158 of 500\n",
      "building tree 159 of 500\n",
      "building tree 160 of 500\n",
      "building tree 161 of 500\n",
      "building tree 162 of 500\n",
      "building tree 163 of 500\n",
      "building tree 164 of 500\n",
      "building tree 165 of 500\n",
      "building tree 166 of 500\n",
      "building tree 167 of 500\n",
      "building tree 168 of 500\n",
      "building tree 169 of 500\n",
      "building tree 170 of 500\n",
      "building tree 171 of 500\n",
      "building tree 172 of 500\n",
      "building tree 173 of 500\n",
      "building tree 174 of 500\n",
      "building tree 175 of 500\n",
      "building tree 176 of 500\n",
      "building tree 177 of 500\n",
      "building tree 178 of 500\n",
      "building tree 179 of 500\n",
      "building tree 180 of 500\n",
      "building tree 181 of 500\n",
      "building tree 182 of 500\n",
      "building tree 183 of 500\n",
      "building tree 184 of 500\n",
      "building tree 185 of 500\n",
      "building tree 186 of 500\n",
      "building tree 187 of 500\n",
      "building tree 188 of 500\n",
      "building tree 189 of 500\n",
      "building tree 190 of 500\n",
      "building tree 191 of 500\n",
      "building tree 192 of 500\n",
      "building tree 193 of 500\n",
      "building tree 194 of 500\n",
      "building tree 195 of 500\n",
      "building tree 196 of 500\n",
      "building tree 197 of 500\n",
      "building tree 198 of 500\n",
      "building tree 199 of 500\n",
      "building tree 200 of 500\n",
      "building tree 201 of 500\n",
      "building tree 202 of 500\n",
      "building tree 203 of 500\n",
      "building tree 204 of 500\n",
      "building tree 205 of 500\n",
      "building tree 206 of 500\n",
      "building tree 207 of 500\n",
      "building tree 208 of 500\n",
      "building tree 209 of 500\n",
      "building tree 210 of 500\n",
      "building tree 211 of 500\n",
      "building tree 212 of 500\n",
      "building tree 213 of 500\n",
      "building tree 214 of 500\n",
      "building tree 215 of 500\n",
      "building tree 216 of 500\n",
      "building tree 217 of 500\n",
      "building tree 218 of 500\n",
      "building tree 219 of 500\n",
      "building tree 220 of 500\n",
      "building tree 221 of 500\n",
      "building tree 222 of 500\n",
      "building tree 223 of 500\n",
      "building tree 224 of 500\n",
      "building tree 225 of 500\n",
      "building tree 226 of 500\n",
      "building tree 227 of 500\n",
      "building tree 228 of 500\n",
      "building tree 229 of 500\n",
      "building tree 230 of 500\n",
      "building tree 231 of 500\n",
      "building tree 232 of 500\n",
      "building tree 233 of 500\n",
      "building tree 234 of 500\n",
      "building tree 235 of 500\n",
      "building tree 236 of 500\n",
      "building tree 237 of 500\n",
      "building tree 238 of 500\n",
      "building tree 239 of 500\n",
      "building tree 240 of 500\n",
      "building tree 241 of 500\n",
      "building tree 242 of 500\n",
      "building tree 243 of 500\n",
      "building tree 244 of 500\n",
      "building tree 245 of 500\n",
      "building tree 246 of 500\n",
      "building tree 247 of 500\n",
      "building tree 248 of 500\n",
      "building tree 249 of 500\n",
      "building tree 250 of 500\n",
      "building tree 251 of 500\n",
      "building tree 252 of 500\n",
      "building tree 253 of 500\n",
      "building tree 254 of 500\n",
      "building tree 255 of 500\n",
      "building tree 256 of 500\n",
      "building tree 257 of 500\n",
      "building tree 258 of 500\n",
      "building tree 259 of 500\n",
      "building tree 260 of 500\n",
      "building tree 261 of 500\n",
      "building tree 262 of 500\n",
      "building tree 263 of 500\n",
      "building tree 264 of 500\n",
      "building tree 265 of 500\n",
      "building tree 266 of 500\n",
      "building tree 267 of 500\n",
      "building tree 268 of 500\n",
      "building tree 269 of 500\n",
      "building tree 270 of 500\n",
      "building tree 271 of 500\n",
      "building tree 272 of 500\n",
      "building tree 273 of 500\n",
      "building tree 274 of 500\n",
      "building tree 275 of 500\n",
      "building tree 276 of 500\n",
      "building tree 277 of 500\n",
      "building tree 278 of 500\n",
      "building tree 279 of 500\n",
      "building tree 280 of 500\n",
      "building tree 281 of 500\n",
      "building tree 282 of 500\n",
      "building tree 283 of 500\n",
      "building tree 284 of 500\n",
      "building tree 285 of 500\n",
      "building tree 286 of 500\n",
      "building tree 287 of 500\n",
      "building tree 288 of 500\n",
      "building tree 289 of 500\n",
      "building tree 290 of 500\n",
      "building tree 291 of 500\n",
      "building tree 292 of 500\n",
      "building tree 293 of 500\n",
      "building tree 294 of 500\n",
      "building tree 295 of 500\n",
      "building tree 296 of 500\n",
      "building tree 297 of 500\n",
      "building tree 298 of 500\n",
      "building tree 299 of 500\n",
      "building tree 300 of 500\n",
      "building tree 301 of 500\n",
      "building tree 302 of 500\n",
      "building tree 303 of 500\n",
      "building tree 304 of 500\n",
      "building tree 305 of 500\n",
      "building tree 306 of 500\n",
      "building tree 307 of 500\n",
      "building tree 308 of 500\n",
      "building tree 309 of 500\n",
      "building tree 310 of 500\n",
      "building tree 311 of 500\n",
      "building tree 312 of 500\n",
      "building tree 313 of 500\n",
      "building tree 314 of 500\n",
      "building tree 315 of 500\n",
      "building tree 316 of 500\n",
      "building tree 317 of 500\n",
      "building tree 318 of 500\n",
      "building tree 319 of 500\n",
      "building tree 320 of 500\n",
      "building tree 321 of 500\n",
      "building tree 322 of 500\n",
      "building tree 323 of 500\n",
      "building tree 324 of 500\n",
      "building tree 325 of 500\n",
      "building tree 326 of 500\n",
      "building tree 327 of 500\n",
      "building tree 328 of 500\n",
      "building tree 329 of 500\n",
      "building tree 330 of 500\n",
      "building tree 331 of 500\n",
      "building tree 332 of 500\n",
      "building tree 333 of 500\n",
      "building tree 334 of 500\n",
      "building tree 335 of 500\n",
      "building tree 336 of 500\n",
      "building tree 337 of 500\n",
      "building tree 338 of 500\n",
      "building tree 339 of 500\n",
      "building tree 340 of 500\n",
      "building tree 341 of 500\n",
      "building tree 342 of 500\n",
      "building tree 343 of 500\n",
      "building tree 344 of 500\n",
      "building tree 345 of 500\n",
      "building tree 346 of 500\n",
      "building tree 347 of 500\n",
      "building tree 348 of 500\n",
      "building tree 349 of 500\n",
      "building tree 350 of 500\n",
      "building tree 351 of 500\n",
      "building tree 352 of 500\n"
     ]
    },
    {
     "name": "stderr",
     "output_type": "stream",
     "text": [
      "[Parallel(n_jobs=-1)]: Done 341 tasks      | elapsed:  2.6min\n"
     ]
    },
    {
     "name": "stdout",
     "output_type": "stream",
     "text": [
      "building tree 353 of 500\n",
      "building tree 354 of 500\n",
      "building tree 355 of 500\n",
      "building tree 356 of 500\n",
      "building tree 357 of 500\n",
      "building tree 358 of 500\n",
      "building tree 359 of 500\n",
      "building tree 360 of 500\n",
      "building tree 361 of 500\n",
      "building tree 362 of 500\n",
      "building tree 363 of 500\n",
      "building tree 364 of 500\n",
      "building tree 365 of 500\n",
      "building tree 366 of 500\n",
      "building tree 367 of 500\n",
      "building tree 368 of 500\n",
      "building tree 369 of 500\n",
      "building tree 370 of 500\n",
      "building tree 371 of 500\n",
      "building tree 372 of 500\n",
      "building tree 373 of 500\n",
      "building tree 374 of 500\n",
      "building tree 375 of 500\n",
      "building tree 376 of 500\n",
      "building tree 377 of 500\n",
      "building tree 378 of 500\n",
      "building tree 379 of 500\n",
      "building tree 380 of 500\n",
      "building tree 381 of 500\n",
      "building tree 382 of 500\n",
      "building tree 383 of 500\n",
      "building tree 384 of 500\n",
      "building tree 385 of 500\n",
      "building tree 386 of 500\n",
      "building tree 387 of 500\n",
      "building tree 388 of 500\n",
      "building tree 389 of 500\n",
      "building tree 390 of 500\n",
      "building tree 391 of 500\n",
      "building tree 392 of 500\n",
      "building tree 393 of 500\n",
      "building tree 394 of 500\n",
      "building tree 395 of 500\n",
      "building tree 396 of 500\n",
      "building tree 397 of 500\n",
      "building tree 398 of 500\n",
      "building tree 399 of 500\n",
      "building tree 400 of 500\n",
      "building tree 401 of 500\n",
      "building tree 402 of 500\n",
      "building tree 403 of 500\n",
      "building tree 404 of 500\n",
      "building tree 405 of 500\n",
      "building tree 406 of 500\n",
      "building tree 407 of 500\n",
      "building tree 408 of 500\n",
      "building tree 409 of 500\n",
      "building tree 410 of 500\n",
      "building tree 411 of 500\n",
      "building tree 412 of 500\n",
      "building tree 413 of 500\n",
      "building tree 414 of 500\n",
      "building tree 415 of 500\n",
      "building tree 416 of 500\n",
      "building tree 417 of 500\n",
      "building tree 418 of 500\n",
      "building tree 419 of 500\n",
      "building tree 420 of 500\n",
      "building tree 421 of 500\n",
      "building tree 422 of 500\n",
      "building tree 423 of 500\n",
      "building tree 424 of 500\n",
      "building tree 425 of 500\n",
      "building tree 426 of 500\n",
      "building tree 427 of 500\n",
      "building tree 428 of 500\n",
      "building tree 429 of 500\n",
      "building tree 430 of 500\n",
      "building tree 431 of 500\n",
      "building tree 432 of 500\n",
      "building tree 433 of 500\n",
      "building tree 434 of 500\n",
      "building tree 435 of 500\n",
      "building tree 436 of 500\n",
      "building tree 437 of 500\n",
      "building tree 438 of 500\n",
      "building tree 439 of 500\n",
      "building tree 440 of 500\n",
      "building tree 441 of 500\n",
      "building tree 442 of 500\n",
      "building tree 443 of 500\n",
      "building tree 444 of 500\n",
      "building tree 445 of 500\n",
      "building tree 446 of 500\n",
      "building tree 447 of 500\n",
      "building tree 448 of 500\n",
      "building tree 449 of 500\n",
      "building tree 450 of 500\n",
      "building tree 451 of 500\n",
      "building tree 452 of 500\n",
      "building tree 453 of 500\n",
      "building tree 454 of 500\n",
      "building tree 455 of 500\n",
      "building tree 456 of 500\n",
      "building tree 457 of 500\n",
      "building tree 458 of 500\n",
      "building tree 459 of 500\n",
      "building tree 460 of 500\n",
      "building tree 461 of 500\n",
      "building tree 462 of 500\n",
      "building tree 463 of 500\n",
      "building tree 464 of 500\n",
      "building tree 465 of 500\n",
      "building tree 466 of 500\n",
      "building tree 467 of 500\n",
      "building tree 468 of 500\n",
      "building tree 469 of 500\n",
      "building tree 470 of 500\n",
      "building tree 471 of 500\n",
      "building tree 472 of 500\n",
      "building tree 473 of 500\n",
      "building tree 474 of 500\n",
      "building tree 475 of 500\n",
      "building tree 476 of 500\n",
      "building tree 477 of 500\n",
      "building tree 478 of 500\n",
      "building tree 479 of 500\n",
      "building tree 480 of 500\n",
      "building tree 481 of 500\n",
      "building tree 482 of 500\n",
      "building tree 483 of 500\n",
      "building tree 484 of 500\n",
      "building tree 485 of 500\n",
      "building tree 486 of 500\n",
      "building tree 487 of 500\n",
      "building tree 488 of 500\n",
      "building tree 489 of 500\n",
      "building tree 490 of 500\n",
      "building tree 491 of 500\n",
      "building tree 492 of 500\n",
      "building tree 493 of 500\n",
      "building tree 494 of 500\n",
      "building tree 495 of 500\n",
      "building tree 496 of 500\n",
      "building tree 497 of 500\n",
      "building tree 498 of 500\n",
      "building tree 499 of 500\n",
      "building tree 500 of 500\n"
     ]
    },
    {
     "name": "stderr",
     "output_type": "stream",
     "text": [
      "[Parallel(n_jobs=-1)]: Done 500 out of 500 | elapsed:  3.8min finished\n"
     ]
    },
    {
     "name": "stdout",
     "output_type": "stream",
     "text": [
      "***** Training Set Performance ******\n"
     ]
    },
    {
     "name": "stderr",
     "output_type": "stream",
     "text": [
      "[Parallel(n_jobs=12)]: Using backend ThreadingBackend with 12 concurrent workers.\n",
      "[Parallel(n_jobs=12)]: Done  17 tasks      | elapsed:    0.2s\n",
      "[Parallel(n_jobs=12)]: Done 138 tasks      | elapsed:    1.6s\n",
      "[Parallel(n_jobs=12)]: Done 341 tasks      | elapsed:    4.0s\n",
      "[Parallel(n_jobs=12)]: Done 500 out of 500 | elapsed:    5.9s finished\n"
     ]
    },
    {
     "name": "stdout",
     "output_type": "stream",
     "text": [
      "              precision    recall  f1-score   support\n",
      "\n",
      "     MIDWEST       0.87      0.94      0.90     48322\n",
      "   NORTHEAST       0.96      0.59      0.73     35000\n",
      "       SOUTH       0.81      0.87      0.84     48590\n",
      "        WEST       0.86      0.96      0.91     51678\n",
      "\n",
      "    accuracy                           0.86    183590\n",
      "   macro avg       0.87      0.84      0.84    183590\n",
      "weighted avg       0.87      0.86      0.85    183590\n",
      "\n"
     ]
    },
    {
     "name": "stderr",
     "output_type": "stream",
     "text": [
      "[Parallel(n_jobs=12)]: Using backend ThreadingBackend with 12 concurrent workers.\n",
      "[Parallel(n_jobs=12)]: Done  17 tasks      | elapsed:    0.2s\n",
      "[Parallel(n_jobs=12)]: Done 138 tasks      | elapsed:    1.6s\n",
      "[Parallel(n_jobs=12)]: Done 341 tasks      | elapsed:    4.1s\n",
      "[Parallel(n_jobs=12)]: Done 500 out of 500 | elapsed:    5.9s finished\n"
     ]
    },
    {
     "data": {
      "image/png": "[encoded data removed]",
      "text/plain": [
       "<Figure size 432x288 with 2 Axes>"
      ]
     },
     "metadata": {
      "needs_background": "light"
     },
     "output_type": "display_data"
    },
    {
     "name": "stdout",
     "output_type": "stream",
     "text": [
      "\n",
      "***** Dev Set Performance ******\n"
     ]
    },
    {
     "name": "stderr",
     "output_type": "stream",
     "text": [
      "[Parallel(n_jobs=12)]: Using backend ThreadingBackend with 12 concurrent workers.\n",
      "[Parallel(n_jobs=12)]: Done  17 tasks      | elapsed:    0.0s\n",
      "[Parallel(n_jobs=12)]: Done 138 tasks      | elapsed:    0.1s\n",
      "[Parallel(n_jobs=12)]: Done 341 tasks      | elapsed:    0.3s\n",
      "[Parallel(n_jobs=12)]: Done 500 out of 500 | elapsed:    0.4s finished\n"
     ]
    },
    {
     "name": "stdout",
     "output_type": "stream",
     "text": [
      "              precision    recall  f1-score   support\n",
      "\n",
      "     MIDWEST       0.19      0.17      0.18      1484\n",
      "   NORTHEAST       0.55      0.18      0.27      4295\n",
      "       SOUTH       0.38      0.65      0.48      4266\n",
      "        WEST       0.13      0.14      0.13      1430\n",
      "\n",
      "    accuracy                           0.35     11475\n",
      "   macro avg       0.31      0.28      0.27     11475\n",
      "weighted avg       0.39      0.35      0.32     11475\n",
      "\n"
     ]
    },
    {
     "name": "stderr",
     "output_type": "stream",
     "text": [
      "[Parallel(n_jobs=12)]: Using backend ThreadingBackend with 12 concurrent workers.\n",
      "[Parallel(n_jobs=12)]: Done  17 tasks      | elapsed:    0.0s\n",
      "[Parallel(n_jobs=12)]: Done 138 tasks      | elapsed:    0.1s\n",
      "[Parallel(n_jobs=12)]: Done 341 tasks      | elapsed:    0.2s\n",
      "[Parallel(n_jobs=12)]: Done 500 out of 500 | elapsed:    0.4s finished\n"
     ]
    },
    {
     "data": {
      "image/png": "[encoded data removed]",
      "text/plain": [
       "<Figure size 432x288 with 2 Axes>"
      ]
     },
     "metadata": {
      "needs_background": "light"
     },
     "output_type": "display_data"
    }
   ],
   "source": [
    "X = list(train_upANDdownsampled.feature_array)\n",
    "y = train_upANDdownsampled.region\n",
    "\n",
    "rfc_11 = RandomForestClassifier(n_estimators = 500, max_depth = 15, \n",
    "                              n_jobs = -1, verbose = 2)\n",
    "rfc_11.fit(X, y)\n",
    "get_report(rfc_11)"
   ]
  },
  {
   "cell_type": "code",
   "execution_count": 287,
   "metadata": {},
   "outputs": [
    {
     "data": {
      "text/plain": [
       "RandomForestClassifier(max_depth=10, max_features=None, n_estimators=10,\n",
       "                       n_jobs=-1, oob_score=True, verbose=2)"
      ]
     },
     "execution_count": 287,
     "metadata": {},
     "output_type": "execute_result"
    }
   ],
   "source": [
    "rfc_9"
   ]
  },
  {
   "cell_type": "code",
   "execution_count": 288,
   "metadata": {
    "scrolled": true
   },
   "outputs": [
    {
     "name": "stdout",
     "output_type": "stream",
     "text": [
      "\n",
      "***** Dev Set Performance ******\n",
      "precision\n"
     ]
    },
    {
     "name": "stderr",
     "output_type": "stream",
     "text": [
      "[Parallel(n_jobs=12)]: Using backend ThreadingBackend with 12 concurrent workers.\n",
      "[Parallel(n_jobs=12)]: Done   1 tasks      | elapsed:    0.0s\n",
      "[Parallel(n_jobs=12)]: Done   8 tasks      | elapsed:    0.0s\n",
      "[Parallel(n_jobs=12)]: Done  17 tasks      | elapsed:    0.0s\n",
      "[Parallel(n_jobs=12)]: Done  26 tasks      | elapsed:    0.0s\n",
      "[Parallel(n_jobs=12)]: Done  37 tasks      | elapsed:    0.0s\n",
      "[Parallel(n_jobs=12)]: Done  48 tasks      | elapsed:    0.0s\n",
      "[Parallel(n_jobs=12)]: Done  61 tasks      | elapsed:    0.0s\n",
      "[Parallel(n_jobs=12)]: Done  74 tasks      | elapsed:    0.1s\n",
      "[Parallel(n_jobs=12)]: Done  88 out of 100 | elapsed:    0.1s remaining:    0.0s\n",
      "[Parallel(n_jobs=12)]: Done 100 out of 100 | elapsed:    0.1s finished\n",
      "[Parallel(n_jobs=10)]: Using backend ThreadingBackend with 10 concurrent workers.\n",
      "[Parallel(n_jobs=10)]: Done   2 out of  10 | elapsed:    0.0s remaining:    0.0s\n",
      "[Parallel(n_jobs=10)]: Done  10 out of  10 | elapsed:    0.0s finished\n",
      "[Parallel(n_jobs=12)]: Using backend ThreadingBackend with 12 concurrent workers.\n",
      "[Parallel(n_jobs=12)]: Done  17 tasks      | elapsed:    0.0s\n",
      "[Parallel(n_jobs=12)]: Done 138 tasks      | elapsed:    0.1s\n",
      "[Parallel(n_jobs=12)]: Done 341 tasks      | elapsed:    0.3s\n",
      "[Parallel(n_jobs=12)]: Done 500 out of 500 | elapsed:    0.5s finished\n"
     ]
    },
    {
     "data": {
      "image/png": "[encoded data removed]",
      "text/plain": [
       "<Figure size 432x288 with 1 Axes>"
      ]
     },
     "metadata": {
      "needs_background": "light"
     },
     "output_type": "display_data"
    },
    {
     "name": "stdout",
     "output_type": "stream",
     "text": [
      "\n",
      "***** Dev Set Performance ******\n",
      "recall\n"
     ]
    },
    {
     "name": "stderr",
     "output_type": "stream",
     "text": [
      "[Parallel(n_jobs=12)]: Using backend ThreadingBackend with 12 concurrent workers.\n",
      "[Parallel(n_jobs=12)]: Done   1 tasks      | elapsed:    0.0s\n",
      "[Parallel(n_jobs=12)]: Done   8 tasks      | elapsed:    0.0s\n",
      "[Parallel(n_jobs=12)]: Done  17 tasks      | elapsed:    0.0s\n",
      "[Parallel(n_jobs=12)]: Done  26 tasks      | elapsed:    0.0s\n",
      "[Parallel(n_jobs=12)]: Done  37 tasks      | elapsed:    0.0s\n",
      "[Parallel(n_jobs=12)]: Done  48 tasks      | elapsed:    0.0s\n",
      "[Parallel(n_jobs=12)]: Done  61 tasks      | elapsed:    0.1s\n",
      "[Parallel(n_jobs=12)]: Done  74 tasks      | elapsed:    0.1s\n",
      "[Parallel(n_jobs=12)]: Done  88 out of 100 | elapsed:    0.1s remaining:    0.0s\n",
      "[Parallel(n_jobs=12)]: Done 100 out of 100 | elapsed:    0.1s finished\n",
      "[Parallel(n_jobs=10)]: Using backend ThreadingBackend with 10 concurrent workers.\n",
      "[Parallel(n_jobs=10)]: Done   2 out of  10 | elapsed:    0.0s remaining:    0.0s\n",
      "[Parallel(n_jobs=10)]: Done  10 out of  10 | elapsed:    0.0s finished\n",
      "[Parallel(n_jobs=12)]: Using backend ThreadingBackend with 12 concurrent workers.\n",
      "[Parallel(n_jobs=12)]: Done  17 tasks      | elapsed:    0.0s\n",
      "[Parallel(n_jobs=12)]: Done 138 tasks      | elapsed:    0.1s\n",
      "[Parallel(n_jobs=12)]: Done 341 tasks      | elapsed:    0.3s\n",
      "[Parallel(n_jobs=12)]: Done 500 out of 500 | elapsed:    0.4s finished\n"
     ]
    },
    {
     "data": {
      "image/png": "[encoded data removed]",
      "text/plain": [
       "<Figure size 432x288 with 1 Axes>"
      ]
     },
     "metadata": {
      "needs_background": "light"
     },
     "output_type": "display_data"
    },
    {
     "name": "stdout",
     "output_type": "stream",
     "text": [
      "\n",
      "***** Dev Set Performance ******\n",
      "f1\n"
     ]
    },
    {
     "name": "stderr",
     "output_type": "stream",
     "text": [
      "[Parallel(n_jobs=12)]: Using backend ThreadingBackend with 12 concurrent workers.\n",
      "[Parallel(n_jobs=12)]: Done   1 tasks      | elapsed:    0.0s\n",
      "[Parallel(n_jobs=12)]: Done   8 tasks      | elapsed:    0.0s\n",
      "[Parallel(n_jobs=12)]: Done  17 tasks      | elapsed:    0.0s\n",
      "[Parallel(n_jobs=12)]: Done  26 tasks      | elapsed:    0.0s\n",
      "[Parallel(n_jobs=12)]: Done  37 tasks      | elapsed:    0.0s\n",
      "[Parallel(n_jobs=12)]: Done  48 tasks      | elapsed:    0.0s\n",
      "[Parallel(n_jobs=12)]: Done  61 tasks      | elapsed:    0.0s\n",
      "[Parallel(n_jobs=12)]: Done  74 tasks      | elapsed:    0.0s\n",
      "[Parallel(n_jobs=12)]: Done  88 out of 100 | elapsed:    0.1s remaining:    0.0s\n",
      "[Parallel(n_jobs=12)]: Done 100 out of 100 | elapsed:    0.1s finished\n",
      "[Parallel(n_jobs=10)]: Using backend ThreadingBackend with 10 concurrent workers.\n",
      "[Parallel(n_jobs=10)]: Done   2 out of  10 | elapsed:    0.0s remaining:    0.0s\n",
      "[Parallel(n_jobs=10)]: Done  10 out of  10 | elapsed:    0.0s finished\n",
      "[Parallel(n_jobs=12)]: Using backend ThreadingBackend with 12 concurrent workers.\n",
      "[Parallel(n_jobs=12)]: Done  17 tasks      | elapsed:    0.0s\n",
      "[Parallel(n_jobs=12)]: Done 138 tasks      | elapsed:    0.1s\n",
      "[Parallel(n_jobs=12)]: Done 341 tasks      | elapsed:    0.3s\n",
      "[Parallel(n_jobs=12)]: Done 500 out of 500 | elapsed:    0.4s finished\n"
     ]
    },
    {
     "data": {
      "image/png": "[encoded data removed]",
      "text/plain": [
       "<Figure size 432x288 with 1 Axes>"
      ]
     },
     "metadata": {
      "needs_background": "light"
     },
     "output_type": "display_data"
    }
   ],
   "source": [
    "for m in ['precision','recall','f1']:\n",
    "    get_dev_plot([rfc_1, rfc_2, rfc_3, rfc_4, rfc_5, rfc_6, rfc_7, rfc_8, rfc_10, rfc_11],m);"
   ]
  },
  {
   "cell_type": "code",
   "execution_count": 289,
   "metadata": {},
   "outputs": [
    {
     "data": {
      "text/plain": [
       "RandomForestClassifier(max_depth=12, min_samples_leaf=2, min_samples_split=5,\n",
       "                       n_jobs=-1)"
      ]
     },
     "execution_count": 289,
     "metadata": {},
     "output_type": "execute_result"
    }
   ],
   "source": [
    "rfc_5"
   ]
  },
  {
   "cell_type": "markdown",
   "metadata": {},
   "source": [
    "It looks like rfc_5 has the highest f1_macro score for the dev set.This can be used to make predictions on the test set."
   ]
  },
  {
   "cell_type": "markdown",
   "metadata": {},
   "source": [
    "# Filling the Test Set"
   ]
  },
  {
   "cell_type": "code",
   "execution_count": 290,
   "metadata": {},
   "outputs": [
    {
     "data": {
      "text/html": [
       "<div>\n",
       "<style scoped>\n",
       "    .dataframe tbody tr th:only-of-type {\n",
       "        vertical-align: middle;\n",
       "    }\n",
       "\n",
       "    .dataframe tbody tr th {\n",
       "        vertical-align: top;\n",
       "    }\n",
       "\n",
       "    .dataframe thead th {\n",
       "        text-align: right;\n",
       "    }\n",
       "</style>\n",
       "<table border=\"1\" class=\"dataframe\">\n",
       "  <thead>\n",
       "    <tr style=\"text-align: right;\">\n",
       "      <th></th>\n",
       "      <th>region</th>\n",
       "      <th>user</th>\n",
       "      <th>tweet</th>\n",
       "    </tr>\n",
       "  </thead>\n",
       "  <tbody>\n",
       "    <tr>\n",
       "      <th>0</th>\n",
       "      <td>?</td>\n",
       "      <td>USER_e34edf78</td>\n",
       "      <td>0.07743729727671426 -0.03284658798400093 -0.09...</td>\n",
       "    </tr>\n",
       "    <tr>\n",
       "      <th>1</th>\n",
       "      <td>?</td>\n",
       "      <td>USER_e34edf78</td>\n",
       "      <td>-0.0972022470086813 -0.17957499623298645 0.102...</td>\n",
       "    </tr>\n",
       "    <tr>\n",
       "      <th>2</th>\n",
       "      <td>?</td>\n",
       "      <td>USER_e34edf78</td>\n",
       "      <td>-0.013611395657062531 -0.08937279544770718 -0....</td>\n",
       "    </tr>\n",
       "    <tr>\n",
       "      <th>3</th>\n",
       "      <td>?</td>\n",
       "      <td>USER_e34edf78</td>\n",
       "      <td>0.0958620011806488 -0.17400999069213868 0.0420...</td>\n",
       "    </tr>\n",
       "    <tr>\n",
       "      <th>4</th>\n",
       "      <td>?</td>\n",
       "      <td>USER_e34edf78</td>\n",
       "      <td>-0.08330000191926956 -0.20895999670028687 -0.0...</td>\n",
       "    </tr>\n",
       "  </tbody>\n",
       "</table>\n",
       "</div>"
      ],
      "text/plain": [
       "  region           user                                              tweet\n",
       "0      ?  USER_e34edf78  0.07743729727671426 -0.03284658798400093 -0.09...\n",
       "1      ?  USER_e34edf78  -0.0972022470086813 -0.17957499623298645 0.102...\n",
       "2      ?  USER_e34edf78  -0.013611395657062531 -0.08937279544770718 -0....\n",
       "3      ?  USER_e34edf78  0.0958620011806488 -0.17400999069213868 0.0420...\n",
       "4      ?  USER_e34edf78  -0.08330000191926956 -0.20895999670028687 -0.0..."
      ]
     },
     "execution_count": 290,
     "metadata": {},
     "output_type": "execute_result"
    }
   ],
   "source": [
    "test.head()"
   ]
  },
  {
   "cell_type": "code",
   "execution_count": 291,
   "metadata": {},
   "outputs": [],
   "source": [
    "chosen_model = rfc_5\n",
    "test['feature_array'] = test.tweet.map(lambda x: np.array([float(i) for i in x.split(' ')]))\n",
    "test_predictions = chosen_model.predict(list(test.feature_array))\n",
    "test['region'] = test_predictions"
   ]
  },
  {
   "cell_type": "code",
   "execution_count": 292,
   "metadata": {},
   "outputs": [
    {
     "data": {
      "text/html": [
       "<div>\n",
       "<style scoped>\n",
       "    .dataframe tbody tr th:only-of-type {\n",
       "        vertical-align: middle;\n",
       "    }\n",
       "\n",
       "    .dataframe tbody tr th {\n",
       "        vertical-align: top;\n",
       "    }\n",
       "\n",
       "    .dataframe thead th {\n",
       "        text-align: right;\n",
       "    }\n",
       "</style>\n",
       "<table border=\"1\" class=\"dataframe\">\n",
       "  <thead>\n",
       "    <tr style=\"text-align: right;\">\n",
       "      <th></th>\n",
       "      <th>region</th>\n",
       "      <th>user</th>\n",
       "      <th>tweet</th>\n",
       "      <th>feature_array</th>\n",
       "    </tr>\n",
       "  </thead>\n",
       "  <tbody>\n",
       "    <tr>\n",
       "      <th>0</th>\n",
       "      <td>MIDWEST</td>\n",
       "      <td>USER_e34edf78</td>\n",
       "      <td>0.07743729727671426 -0.03284658798400093 -0.09...</td>\n",
       "      <td>[0.07743729727671426, -0.03284658798400093, -0...</td>\n",
       "    </tr>\n",
       "    <tr>\n",
       "      <th>1</th>\n",
       "      <td>SOUTH</td>\n",
       "      <td>USER_e34edf78</td>\n",
       "      <td>-0.0972022470086813 -0.17957499623298645 0.102...</td>\n",
       "      <td>[-0.0972022470086813, -0.17957499623298645, 0....</td>\n",
       "    </tr>\n",
       "    <tr>\n",
       "      <th>2</th>\n",
       "      <td>NORTHEAST</td>\n",
       "      <td>USER_e34edf78</td>\n",
       "      <td>-0.013611395657062531 -0.08937279544770718 -0....</td>\n",
       "      <td>[-0.013611395657062531, -0.08937279544770718, ...</td>\n",
       "    </tr>\n",
       "    <tr>\n",
       "      <th>3</th>\n",
       "      <td>MIDWEST</td>\n",
       "      <td>USER_e34edf78</td>\n",
       "      <td>0.0958620011806488 -0.17400999069213868 0.0420...</td>\n",
       "      <td>[0.0958620011806488, -0.17400999069213868, 0.0...</td>\n",
       "    </tr>\n",
       "    <tr>\n",
       "      <th>4</th>\n",
       "      <td>WEST</td>\n",
       "      <td>USER_e34edf78</td>\n",
       "      <td>-0.08330000191926956 -0.20895999670028687 -0.0...</td>\n",
       "      <td>[-0.08330000191926956, -0.20895999670028687, -...</td>\n",
       "    </tr>\n",
       "  </tbody>\n",
       "</table>\n",
       "</div>"
      ],
      "text/plain": [
       "      region           user  \\\n",
       "0    MIDWEST  USER_e34edf78   \n",
       "1      SOUTH  USER_e34edf78   \n",
       "2  NORTHEAST  USER_e34edf78   \n",
       "3    MIDWEST  USER_e34edf78   \n",
       "4       WEST  USER_e34edf78   \n",
       "\n",
       "                                               tweet  \\\n",
       "0  0.07743729727671426 -0.03284658798400093 -0.09...   \n",
       "1  -0.0972022470086813 -0.17957499623298645 0.102...   \n",
       "2  -0.013611395657062531 -0.08937279544770718 -0....   \n",
       "3  0.0958620011806488 -0.17400999069213868 0.0420...   \n",
       "4  -0.08330000191926956 -0.20895999670028687 -0.0...   \n",
       "\n",
       "                                       feature_array  \n",
       "0  [0.07743729727671426, -0.03284658798400093, -0...  \n",
       "1  [-0.0972022470086813, -0.17957499623298645, 0....  \n",
       "2  [-0.013611395657062531, -0.08937279544770718, ...  \n",
       "3  [0.0958620011806488, -0.17400999069213868, 0.0...  \n",
       "4  [-0.08330000191926956, -0.20895999670028687, -...  "
      ]
     },
     "execution_count": 292,
     "metadata": {},
     "output_type": "execute_result"
    }
   ],
   "source": [
    "test.head()"
   ]
  },
  {
   "cell_type": "code",
   "execution_count": 293,
   "metadata": {},
   "outputs": [],
   "source": [
    "x = test.to_csv('test_glove300_with_predictions.csv')"
   ]
  },
  {
   "cell_type": "code",
   "execution_count": null,
   "metadata": {},
   "outputs": [],
   "source": [
    "# import csv \n",
    "# with open ('test_glove300_with_predictions.csv','') as file: \n",
    "    # writer = csv.writer(file)\n"
   ]
  },
  {
   "cell_type": "code",
   "execution_count": null,
   "metadata": {},
   "outputs": [],
   "source": []
  }
 ],
 "metadata": {
  "kernelspec": {
   "display_name": "Python 3",
   "language": "python",
   "name": "python3"
  },
  "language_info": {
   "codemirror_mode": {
    "name": "ipython",
    "version": 3
   },
   "file_extension": ".py",
   "mimetype": "text/x-python",
   "name": "python",
   "nbconvert_exporter": "python",
   "pygments_lexer": "ipython3",
   "version": "3.7.3"
  }
 },
 "nbformat": 4,
 "nbformat_minor": 4
}
